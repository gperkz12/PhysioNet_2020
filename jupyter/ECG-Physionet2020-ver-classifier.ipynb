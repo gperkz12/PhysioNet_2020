{
 "cells": [
  {
   "cell_type": "markdown",
   "metadata": {},
   "source": [
    "# LIBRARIES"
   ]
  },
  {
   "cell_type": "code",
   "execution_count": 1,
   "metadata": {},
   "outputs": [
    {
     "name": "stderr",
     "output_type": "stream",
     "text": [
      "Using TensorFlow backend.\n"
     ]
    }
   ],
   "source": [
    "import os\n",
    "from scipy.io import loadmat\n",
    "import numpy as np\n",
    "import pandas as pd\n",
    "import matplotlib.pyplot as plt\n",
    "import scipy as sp\n",
    "\n",
    "from sklearn.model_selection import train_test_split\n",
    "from sklearn import preprocessing # classification\n",
    "from itertools import chain \n",
    "\n",
    "# FEATURE ENGINEERING\n",
    "from ecgdetectors import Detectors\n",
    "\n",
    "# CLASSIFICATION\n",
    "from sklearn.preprocessing import MinMaxScaler\n",
    "from sklearn.metrics import mean_squared_error\n",
    "from sklearn.metrics import accuracy_score\n",
    "\n",
    "from keras.models import Sequential\n",
    "from keras.layers import Dense, LSTM, Dropout\n",
    "import keras"
   ]
  },
  {
   "cell_type": "code",
   "execution_count": 68,
   "metadata": {},
   "outputs": [],
   "source": [
    "from sklearn.ensemble import RandomForestClassifier\n",
    "from sklearn.model_selection import GridSearchCV\n",
    "from sklearn.metrics import roc_auc_score\n",
    "from sklearn.metrics import confusion_matrix"
   ]
  },
  {
   "cell_type": "markdown",
   "metadata": {},
   "source": [
    "# CONFIGURATION"
   ]
  },
  {
   "cell_type": "code",
   "execution_count": 2,
   "metadata": {},
   "outputs": [],
   "source": [
    "# ENVIRONMENT\n",
    "# tf2_gpu\n",
    "\n",
    "\n",
    "# physionet data\n",
    "pth_data = r'C:\\Users\\muham\\Documents\\rizwan-asus\\DATA\\PHYSIONET-2020\\data1\\Training_WFDB'\n",
    "\n",
    "# pth_code = r'C:\\Users\\muham\\Documents\\rizwan-asus\\PHYSIONET2020\\code\\physionet-python-2020-master'\n",
    "\n",
    "pth_functions = r'C:\\Users\\muham\\Documents\\rizwan-asus\\PHYSIONET2020\\code\\PhysioNet_2020'\n",
    "\n",
    "pth_eval = r'C:\\Users\\muham\\Documents\\rizwan-asus\\PHYSIONET2020\\results'\n",
    "\n",
    "pth_res = r'C:\\Users\\muham\\Documents\\rizwan-asus\\PHYSIONET2020\\results\\res1'\n",
    "\n",
    "pth_fig = r'C:\\Users\\muham\\Documents\\rizwan-asus\\PHYSIONET2020\\figures'\n",
    "\n",
    "pth_pwd = os.getcwd()"
   ]
  },
  {
   "cell_type": "markdown",
   "metadata": {},
   "source": [
    "# FUNCTION"
   ]
  },
  {
   "cell_type": "code",
   "execution_count": 3,
   "metadata": {},
   "outputs": [],
   "source": [
    "# # GITHUB CODE\n",
    "# os.chdir(pth_code)\n",
    "\n",
    "# from driver import *\n",
    "# from get_12ECG_features import *\n",
    "# from run_12ECG_classifier import *\n",
    "\n",
    "# LOCAL FUNCTIONS\n",
    "os.chdir(pth_functions)\n",
    "\n",
    "# PHYSIONET FUNCTIONS\n",
    "from driver import *\n",
    "from get_12ECG_features import *\n",
    "from run_12ECG_classifier import *\n",
    "\n",
    "# RIZ FUNCTIONS\n",
    "from data_read import data_files_list\n",
    "from data_read import data_files_load\n",
    "from data_features import *\n",
    "\n",
    "from data_preprocess import *\n",
    "from data_prepare import *\n",
    "from plt_ecg import *\n",
    "\n",
    "\n",
    "# PHYSIONET SCORING \n",
    "from evaluate_12ECG_score import *\n",
    "\n",
    "os.chdir(pth_pwd)"
   ]
  },
  {
   "cell_type": "code",
   "execution_count": 4,
   "metadata": {},
   "outputs": [],
   "source": [
    "def r_peaks_idx2sample(r_peaks_idx,skip_direction = 'left',skip_values =2):\n",
    "    \"\"\"convert r-peaks indexes to peak-peak in terms of sample\"\"\"\n",
    "    # skip_values = 2\n",
    "    # skip_direction = 'both' # 'left', 'right', 'both'\n",
    "    \n",
    "    if(skip_direction == 'left'):\n",
    "        r_idx_diff = np.diff(r_peaks_idx)[skip_values:]\n",
    "    elif(skip_direction == 'right'):\n",
    "        r_idx_diff = np.diff(r_peaks_idx)[:-skip_values]\n",
    "    elif(skip_direction == 'both'):\n",
    "        r_idx_diff = np.diff(r_peaks_idx)[skip_values:-skip_values]\n",
    "    else: # default - 'left'\n",
    "        r_idx_diff = np.diff(r_peaks_idx)[skip_values:]\n",
    "        \n",
    "    return r_idx_diff"
   ]
  },
  {
   "cell_type": "code",
   "execution_count": 5,
   "metadata": {},
   "outputs": [],
   "source": [
    "def ecg_feature_extract(pth_data, list_fname, feat_type):\n",
    "    \"extract features based on the given specifications\"\n",
    "    features_matrix = []\n",
    "    #for ii in range(len(list_data)):\n",
    "    \n",
    "    if(feat_type == 'raw-data'):\n",
    "        print('FEATURE TYPE = raw-data')\n",
    "        lead_no = 1\n",
    "        NO_SAMPLES = 4500\n",
    "        for ii in range(len(list_fname)):\n",
    "            #-------------------------------------------------\n",
    "            # META DATA FEATURES\n",
    "            #-------------------------------------------------\n",
    "            tmp_smp_name = list_fname[ii][:-4]\n",
    "\n",
    "            print('ECG Sample Name:',tmp_smp_name)\n",
    "\n",
    "\n",
    "            tmp_smp_mat = os.path.join(pth_data,tmp_smp_name+'.mat')\n",
    "            tmp_smp_hea = os.path.join(pth_data,tmp_smp_name+'.hea')\n",
    "\n",
    "            data, header_data = load_challenge_data(tmp_smp_mat)\n",
    "            # data - ecg data\n",
    "            # header_data - contains information such as fs, gain, etc.\n",
    "            \n",
    "            tmp_sample_ecg_all = data # ECG from all the leads\n",
    "            tmp_sample_ecg_lead = data[lead_no-1]\n",
    "\n",
    "            features_samp = np.zeros((0, NO_SAMPLES))\n",
    "\n",
    "            \n",
    "            if(len(tmp_sample_ecg_lead) > NO_SAMPLES):\n",
    "                features_samp = tmp_sample_ecg_lead[0:NO_SAMPLES]\n",
    "            else:\n",
    "                features_samp[0,0:len(tmp_sample_ecg_lead)] = tmp_sample_ecg_lead\n",
    "                    \n",
    "            features_matrix.append(features_samp)\n",
    "\n",
    "            del features_samp\n",
    "            \n",
    "        return np.asarray(features_matrix)\n",
    "            \n",
    "    \n",
    "    else:\n",
    "        lead_no = 1\n",
    "        for ii in range(len(list_fname)):\n",
    "            #-------------------------------------------------\n",
    "            # META DATA FEATURES\n",
    "            #-------------------------------------------------\n",
    "            tmp_smp_name = list_fname[ii][:-4]\n",
    "\n",
    "            print('ECG Sample Name:',tmp_smp_name)\n",
    "\n",
    "\n",
    "            tmp_smp_mat = os.path.join(pth_data,tmp_smp_name+'.mat')\n",
    "            tmp_smp_hea = os.path.join(pth_data,tmp_smp_name+'.hea')\n",
    "\n",
    "            data, header_data = load_challenge_data(tmp_smp_mat)\n",
    "            # data - ecg data\n",
    "            # header_data - contains information such as fs, gain, etc. \n",
    "\n",
    "            tmp_hea = header_data[0].split(' ')\n",
    "            # print(tmp_hea)\n",
    "            # ['A0001', '12', '500', '7500', '16-Mar-2020', '19:07:01\\n']\n",
    "            ptID = tmp_hea[0] # 'A0001'\n",
    "            num_leads = int(tmp_hea[1]) # '12'\n",
    "            sample_Fs= int(tmp_hea[2]) # '500'\n",
    "            gain_lead = np.zeros(num_leads) # 1000\n",
    "\n",
    "            for ii in range(num_leads):\n",
    "                tmp_hea = header_data[ii+1].split(' ')\n",
    "                gain_lead[ii] = int(tmp_hea[2].split('/')[0])\n",
    "\n",
    "            # for testing, we included the mean age of 57 if the age is a NaN\n",
    "            # This value will change as more data is being released\n",
    "            for iline in header_data:\n",
    "                if iline.startswith('#Age'):\n",
    "                    tmp_age = iline.split(': ')[1].strip()\n",
    "                    tmp_sample_age = int(tmp_age if tmp_age != 'NaN' else 57)\n",
    "                elif iline.startswith('#Sex'):\n",
    "                    tmp_sex = iline.split(': ')[1]\n",
    "                    if tmp_sex.strip()=='Female':\n",
    "                        tmp_sample_sex =1\n",
    "                    else:\n",
    "                        tmp_sample_sex=0\n",
    "                elif iline.startswith('#Dx'):\n",
    "                    label = iline.split(': ')[1].split(',')[0]\n",
    "\n",
    "\n",
    "\n",
    "\n",
    "\n",
    "            tmp_sample_ecg_all = data # ECG from all the leads\n",
    "            tmp_sample_ecg_lead = data[lead_no-1]\n",
    "            tmp_sample_ecg_g = gain_lead[lead_no-1]\n",
    "            tmp_sample_ecg_fs = sample_Fs\n",
    "            #------------------------------------------------------------\n",
    "            # R-Peaks Features\n",
    "            #------------------------------------------------------------\n",
    "            r_peaks_pnet,r_idx_pnet = detect_peaks(tmp_sample_ecg_lead,tmp_sample_ecg_fs,tmp_sample_ecg_g)\n",
    "\n",
    "            r_peaks_pnet = r_peaks_pnet.astype(int)\n",
    "            r_idx_pnet_sample = r_peaks_idx2sample(r_idx_pnet)\n",
    "\n",
    "\n",
    "            #------------------------------------------------------------\n",
    "            # R-Peaks Statistical Features\n",
    "            #------------------------------------------------------------\n",
    "            #   mean\n",
    "            mean_RR = np.mean(r_idx_pnet_sample/tmp_sample_ecg_fs)\n",
    "            mean_Peaks = np.mean(r_peaks_pnet*tmp_sample_ecg_g)\n",
    "\n",
    "            #   median\n",
    "            median_RR = np.median(r_idx_pnet_sample/tmp_sample_ecg_fs)\n",
    "            median_Peaks = np.median(r_peaks_pnet*tmp_sample_ecg_g)\n",
    "\n",
    "            #   standard deviation\n",
    "            std_RR = np.std(r_idx_pnet_sample/tmp_sample_ecg_fs*1000)\n",
    "            std_Peaks = np.std(r_peaks_pnet*tmp_sample_ecg_g)\n",
    "\n",
    "            #   variance\n",
    "            var_RR = stats.tvar(r_idx_pnet_sample/tmp_sample_ecg_fs*1000)\n",
    "            var_Peaks = stats.tvar(r_peaks_pnet*tmp_sample_ecg_g)\n",
    "\n",
    "            #   Skewness\n",
    "            skew_RR = stats.skew(r_idx_pnet_sample/tmp_sample_ecg_fs*1000)\n",
    "            skew_Peaks = stats.skew(r_peaks_pnet*tmp_sample_ecg_g)\n",
    "\n",
    "            #   Kurtosis\n",
    "            kurt_RR = stats.kurtosis(r_idx_pnet_sample/tmp_sample_ecg_fs*1000)\n",
    "            kurt_Peaks = stats.kurtosis(r_peaks_pnet*tmp_sample_ecg_g)\n",
    "\n",
    "            features_samp = np.hstack([tmp_sample_age,tmp_sample_sex,mean_RR,mean_Peaks,median_RR,median_Peaks,std_RR,std_Peaks,var_RR,var_Peaks,skew_RR,skew_Peaks,kurt_RR,kurt_Peaks])\n",
    "\n",
    "            features_matrix.append(features_samp)\n",
    "\n",
    "            del features_samp\n",
    "\n",
    "        return np.asarray(features_matrix)\n"
   ]
  },
  {
   "cell_type": "markdown",
   "metadata": {},
   "source": [
    "# PARAMETERS"
   ]
  },
  {
   "cell_type": "code",
   "execution_count": 6,
   "metadata": {},
   "outputs": [],
   "source": [
    "sample_no = 1 # index of the data sample\n",
    "lead_no = 1 # 12-lead ECG waveform (1,2,3,... 12)\n",
    "\n",
    "TOT_LEADS = 12\n",
    "OUTPUT_CLASSES = 9\n",
    "\n",
    "ANOMALIES_REMOVAL = False\n",
    "NOISE_REMOVAL = False"
   ]
  },
  {
   "cell_type": "markdown",
   "metadata": {},
   "source": [
    "# LOAD DATA "
   ]
  },
  {
   "cell_type": "markdown",
   "metadata": {},
   "source": [
    "##### List of data files ```data_read.py```"
   ]
  },
  {
   "cell_type": "code",
   "execution_count": 7,
   "metadata": {},
   "outputs": [
    {
     "name": "stdout",
     "output_type": "stream",
     "text": [
      "Total number of input files:  6877\n",
      "A0001.mat\n"
     ]
    }
   ],
   "source": [
    "input_files = data_files_list(pth_data)\n",
    "print('Total number of input files: ',len(input_files))\n",
    "\n",
    "print(input_files[sample_no-1])"
   ]
  },
  {
   "cell_type": "markdown",
   "metadata": {},
   "source": [
    "#### List of data and labels  ```data_read.py```"
   ]
  },
  {
   "cell_type": "code",
   "execution_count": 8,
   "metadata": {},
   "outputs": [
    {
     "name": "stdout",
     "output_type": "stream",
     "text": [
      "Labels from REFERENCE file\n"
     ]
    }
   ],
   "source": [
    "[list_data,list_label,list_fname,_] = data_files_load(pth_data,'',False,True)\n",
    "\n",
    "# To get only 'First Label'\n",
    "list_label = [item[0] for item in list_label]"
   ]
  },
  {
   "cell_type": "code",
   "execution_count": 9,
   "metadata": {},
   "outputs": [
    {
     "name": "stdout",
     "output_type": "stream",
     "text": [
      "Total Samples:  6877\n",
      "Unique labels 9\n"
     ]
    }
   ],
   "source": [
    "print('Total Samples: ',len(list_label))\n",
    "label_tmp = np.array(list_label) \n",
    "\n",
    "print('Unique labels',len(np.unique(label_tmp))) \n",
    "del label_tmp"
   ]
  },
  {
   "cell_type": "markdown",
   "metadata": {},
   "source": [
    "# DATA SPLIT \n",
    "1. Training Data: **```X_train``` & ```Y_train```**\n",
    "2. Validation Data: **```X_valid``` & ```Y_valid```**\n",
    "3. Training Data: **```X_test``` & ```Y_test```**"
   ]
  },
  {
   "cell_type": "code",
   "execution_count": 10,
   "metadata": {},
   "outputs": [],
   "source": [
    "# Split data into train and test subsets\n",
    "\n",
    "# Train data (60%) +  Validation data (20%) + Test data (20%)\n",
    "fname_train, fname_test, Y_train, Y_test = train_test_split(list_fname, list_label, test_size=0.2, shuffle=True,random_state=1)\n",
    "fname_train, fname_valid, Y_train, Y_valid = train_test_split(fname_train, Y_train, test_size=0.25, shuffle=True,random_state=1)\n",
    "\n",
    "# X_train - list of dimension samples x leads(12) x ecg signal\n",
    "# Y_train - list of dimension samples x 1"
   ]
  },
  {
   "cell_type": "code",
   "execution_count": 11,
   "metadata": {},
   "outputs": [
    {
     "name": "stdout",
     "output_type": "stream",
     "text": [
      "4125 4125 1376 1376 1376 1376\n"
     ]
    }
   ],
   "source": [
    "print(len(fname_train),len(Y_train),len(fname_valid),len(Y_valid),len(fname_test),len(Y_test))"
   ]
  },
  {
   "cell_type": "markdown",
   "metadata": {},
   "source": [
    "# DATA PREPARATION"
   ]
  },
  {
   "cell_type": "code",
   "execution_count": 94,
   "metadata": {},
   "outputs": [
    {
     "name": "stdout",
     "output_type": "stream",
     "text": [
      "Labels from REFERENCE file\n",
      "Labels from REFERENCE file\n",
      "Labels from REFERENCE file\n"
     ]
    }
   ],
   "source": [
    "[list_data_train,list_label_train,list_fname_train,list_meta_train] = data_files_load(pth_data,fname_train,False,True,False)\n",
    "[list_data_valid,list_label_valid,list_fname_valid,list_meta_valid] = data_files_load(pth_data,fname_valid,False,True,False)\n",
    "[list_data_test,list_label_test,list_fname_test,list_meta_test] = data_files_load(pth_data,fname_test,False,True,False)"
   ]
  },
  {
   "cell_type": "code",
   "execution_count": 95,
   "metadata": {},
   "outputs": [
    {
     "name": "stdout",
     "output_type": "stream",
     "text": [
      "4125\n",
      "['A4330 12 500 5226 16-Mar-2020 19:07:01\\n', 'A4330.mat 16+24 1000/mV 16 0 1 10 0 I\\n', 'A4330.mat 16+24 1000/mV 16 0 -16 3 0 II\\n', 'A4330.mat 16+24 1000/mV 16 0 -16 21 0 III\\n', 'A4330.mat 16+24 1000/mV 16 0 7 -39 0 aVR\\n', 'A4330.mat 16+24 1000/mV 16 0 9 9 0 aVL\\n', 'A4330.mat 16+24 1000/mV 16 0 -17 34 0 aVF\\n', 'A4330.mat 16+24 1000/mV 16 0 1871 115 0 V1\\n', 'A4330.mat 16+24 1000/mV 16 0 99 8 0 V2\\n', 'A4330.mat 16+24 1000/mV 16 0 55 18 0 V3\\n', 'A4330.mat 16+24 1000/mV 16 0 -46 2 0 V4\\n', 'A4330.mat 16+24 1000/mV 16 0 -53 8 0 V5\\n', 'A4330.mat 16+24 1000/mV 16 0 -20 -5 0 V6\\n', '#Age: 58\\n', '#Sex: Male\\n', '#Dx: STD\\n', '#Rx: Unknown\\n', '#Hx: Unknown\\n', '#Sx: Unknown\\n']\n"
     ]
    }
   ],
   "source": [
    "print(len(list_data_train))\n",
    "print(list_meta_train[0])"
   ]
  },
  {
   "cell_type": "code",
   "execution_count": 96,
   "metadata": {},
   "outputs": [],
   "source": [
    "# To get only 'First Label'\n",
    "Y_train = [item[0] for item in list_label_train]\n",
    "Y_valid = [item[0] for item in list_label_valid]\n",
    "\n",
    "# # Data labels into matrix form i.e. [no of samples x no of output classes]\n",
    "# lb = preprocessing.LabelBinarizer()\n",
    "# lb.fit(Y_train)\n",
    "# # lb.classes_\n",
    "# Y_train = lb.transform(Y_train)\n",
    "# Y_valid = lb.transform(Y_valid)"
   ]
  },
  {
   "cell_type": "code",
   "execution_count": 97,
   "metadata": {},
   "outputs": [],
   "source": [
    "# To get only 'First Label'\n",
    "Y_test = [item[0] for item in list_label_test]\n",
    "\n",
    "# # Data labels into matrix form i.e. [no of samples x no of output classes]\n",
    "# lb = preprocessing.LabelBinarizer()\n",
    "# lb.fit(Y_test)\n",
    "# # lb.classes_\n",
    "# Y_test = lb.transform(Y_test)"
   ]
  },
  {
   "cell_type": "markdown",
   "metadata": {},
   "source": [
    "# PRE-PROCESSING\n",
    "- list --> list"
   ]
  },
  {
   "cell_type": "code",
   "execution_count": 98,
   "metadata": {
    "scrolled": true
   },
   "outputs": [
    {
     "name": "stdout",
     "output_type": "stream",
     "text": [
      "[8, 4, 3, 2, 3, 7, 5, 1, 6, 6, 1, 8, 2, 5, 5, 5, 2, 2, 9, 6, 3, 1, 7, 5, 2, 2, 6, 7, 1, 3, 5, 5, 7, 5, 3, 5, 3, 7, 8, 6, 1, 2, 5, 1, 1, 4, 3, 5, 1, 5, 5, 5, 7, 2, 5, 1, 3, 7, 8, 7, 8, 1, 7, 2, 3, 2, 2, 5, 3, 5, 5, 3, 3, 2, 1, 5, 3, 7, 5, 2, 5, 5, 7, 5, 7, 4, 7, 2, 5, 5, 3, 8, 6, 1, 1, 6, 6, 2, 3, 7, 7, 1, 5, 1, 5, 1, 5, 1, 5, 5, 5, 7, 6, 8, 8, 4, 9, 2, 2, 8, 4, 8, 2, 2, 8, 5, 6, 6, 2, 5, 5, 3, 7, 5, 1, 3, 8, 2, 3, 1, 8, 1, 2, 1, 6, 7, 1, 3, 1, 3, 8, 9, 1, 8, 3, 6, 7, 2, 6, 8, 5, 8, 1, 8, 2, 9, 8, 2, 5, 2, 5, 1, 5, 7, 5, 2, 2, 6, 2, 5, 3, 5, 9, 2, 3, 3, 7, 7, 3, 6, 2, 2, 7, 7, 2, 5, 1, 8, 2, 6, 5, 8, 8, 2, 3, 5, 1, 5, 1, 7, 7, 6, 3, 2, 2, 1, 8, 7, 8, 3, 5, 2, 3, 2, 5, 5, 3, 3, 7, 2, 2, 5, 8, 5, 9, 8, 8, 9, 2, 2, 7, 1, 7, 5, 7, 2, 2, 2, 5, 1, 5, 5, 5, 2, 1, 1, 5, 2, 5, 6, 7, 7, 6, 8, 8, 5, 5, 5, 7, 8, 8, 1, 2, 8, 8, 3, 3, 8, 4, 2, 5, 6, 1, 5, 8, 1, 7, 1, 4, 5, 4, 2, 5, 8, 5, 5, 5, 1, 7, 3, 5, 5, 2, 8, 1, 1, 5, 4, 6, 7, 9, 2, 6, 6, 8, 2, 1, 6, 1, 2, 1, 5, 9, 2, 2, 5, 8, 8, 8, 2, 7, 2, 9, 3, 8, 7, 6, 3, 6, 8, 6, 3, 6, 7, 1, 8, 4, 6, 1, 5, 8, 6, 4, 5, 1, 2, 7, 2, 6, 8, 7, 6, 8, 8, 7, 2, 6, 5, 5, 8, 8, 4, 9, 5, 5, 8, 8, 2, 2, 5, 5, 1, 1, 2, 2, 8, 5, 5, 3, 2, 9, 5, 8, 1, 1, 3, 7, 2, 5, 8, 5, 5, 3, 6, 5, 9, 7, 6, 2, 5, 5, 2, 6, 3, 3, 5, 6, 8, 2, 5, 1, 5, 5, 5, 5, 1, 5, 5, 8, 1, 1, 2, 5, 9, 1, 1, 5, 5, 2, 2, 2, 2, 2, 5, 8, 8, 3, 8, 7, 3, 5, 2, 1, 5, 2, 2, 8, 1, 2, 5, 2, 8, 6, 2, 1, 5, 1, 6, 7, 2, 5, 3, 1, 5, 5, 5, 3, 4, 5, 3, 8, 5, 1, 4, 3, 2, 3, 6, 5, 5, 6, 2, 7, 1, 4, 3, 5, 1, 9, 2, 5, 2, 5, 7, 2, 7, 9, 5, 9, 9, 1, 7, 1, 4, 5, 5, 7, 1, 1, 7, 1, 6, 3, 8, 1, 5, 8, 5, 2, 9, 5, 3, 8, 2, 5, 9, 6, 1, 3, 2, 5, 6, 7, 1, 9, 5, 5, 5, 6, 5, 8, 1, 1, 5, 1, 6, 5, 5, 4, 2, 8, 5, 2, 2, 2, 1, 3, 8, 1, 6, 3, 5, 2, 3, 2, 5, 8, 1, 2, 2, 5, 6, 2, 7, 5, 8, 5, 6, 5, 2, 8, 1, 4, 5, 1, 6, 1, 2, 5, 2, 3, 5, 4, 8, 8, 5, 3, 6, 3, 3, 2, 6, 6, 1, 5, 5, 5, 6, 5, 2, 7, 5, 8, 4, 2, 3, 1, 8, 5, 2, 2, 1, 5, 5, 1, 2, 5, 8, 5, 5, 5, 6, 2, 5, 3, 3, 2, 6, 8, 1, 2, 5, 5, 5, 7, 2, 5, 8, 1, 5, 3, 5, 9, 3, 1, 3, 6, 4, 3, 5, 5, 2, 6, 5, 6, 6, 5, 4, 6, 5, 1, 5, 1, 4, 2, 5, 5, 2, 4, 7, 5, 5, 2, 8, 5, 3, 5, 5, 1, 7, 1, 7, 5, 2, 8, 1, 9, 6, 5, 8, 8, 7, 5, 5, 5, 9, 5, 5, 2, 5, 8, 9, 8, 1, 1, 6, 5, 4, 3, 3, 6, 3, 7, 2, 8, 7, 7, 2, 8, 5, 8, 2, 2, 2, 4, 5, 1, 1, 2, 2, 5, 2, 9, 6, 3, 6, 1, 5, 5, 8, 1, 5, 3, 1, 7, 7, 5, 1, 5, 7, 5, 8, 1, 1, 8, 5, 5, 1, 1, 1, 7, 5, 1, 5, 2, 5, 2, 5, 7, 1, 5, 5, 7, 1, 2, 5, 3, 2, 2, 6, 2, 4, 3, 7, 8, 5, 2, 9, 3, 8, 7, 7, 2, 3, 3, 6, 8, 3, 1, 1, 5, 2, 9, 8, 5, 1, 5, 6, 6, 7, 2, 6, 5, 6, 7, 1, 3, 8, 9, 8, 5, 6, 1, 8, 2, 1, 6, 8, 6, 2, 5, 7, 5, 2, 5, 6, 3, 4, 2, 7, 5, 9, 3, 5, 5, 6, 5, 5, 9, 7, 4, 9, 5, 1, 3, 6, 2, 7, 1, 8, 2, 1, 1, 7, 5, 3, 2, 5, 3, 3, 1, 8, 6, 6, 3, 1, 1, 2, 8, 6, 5, 2, 5, 8, 3, 7, 5, 8, 5, 2, 8, 5, 2, 5, 5, 7, 5, 2, 8, 8, 1, 8, 1, 5, 2, 1, 5, 7, 7, 5, 7, 6, 8, 7, 2, 7, 6, 2, 1, 2, 5, 2, 3, 1, 3, 6, 5, 7, 2, 1, 7, 5, 2, 2, 2, 5, 3, 5, 1, 8, 8, 6, 2, 8, 7, 7, 2, 8, 9, 8, 5, 1, 6, 1, 1, 7, 5, 1, 3, 6, 5, 6, 8, 1, 5, 3, 3, 5, 1, 8, 5, 8, 2, 5, 3, 5, 6, 6, 1, 1, 5, 6, 5, 5, 3, 7, 2, 3, 5, 4, 5, 5, 8, 2, 7, 1, 3, 5, 2, 8, 6, 5, 5, 8, 4, 1, 3, 3, 2, 5, 1, 5, 2, 1, 7, 2, 2, 8, 3, 1, 3, 5, 1, 5, 5, 1, 2, 8, 5, 1, 2, 8, 5, 5, 4, 4, 9, 6, 3, 7, 3, 3, 5, 4, 1, 5, 2, 5, 5, 3, 5, 7, 7, 5, 1, 1, 8, 7, 2, 1, 5, 2, 2, 1, 8, 2, 5, 1, 2, 5, 3, 9, 8, 2, 5, 5, 2, 6, 9, 8, 1, 5, 5, 5, 2, 2, 6, 8, 3, 3, 6, 5, 7, 8, 3, 1, 8, 5, 1, 2, 5, 5, 1, 2, 5, 9, 3, 5, 2, 6, 5, 1, 4, 4, 5, 2, 3, 5, 3, 2, 2, 2, 7, 2, 5, 2, 7, 3, 1, 5, 6, 8, 5, 5, 1, 6, 2, 6, 8, 1, 5, 9, 5, 2, 8, 7, 5, 2, 6, 2, 1, 5, 8, 7, 8, 1, 2, 5, 2, 7, 8, 2, 5, 8, 5, 5, 5, 6, 5, 6, 8, 5, 1, 5, 8, 5, 5, 2, 2, 3, 5, 7, 5, 3, 4, 5, 5, 5, 1, 8, 8, 7, 5, 5, 1, 3, 5, 5, 6, 7, 8, 5, 5, 7, 5, 6, 2, 1, 2, 3, 1, 8, 7, 5, 4, 5, 5, 6, 6, 5, 3, 4, 3, 8, 2, 6, 3, 2, 7, 2, 5, 8, 8, 8, 2, 7, 2, 2, 2, 2, 7, 2, 3, 2, 7, 1, 5, 1, 5, 7, 5, 5, 2, 6, 4, 5, 2, 7, 5, 7, 2, 8, 1, 8, 5, 6, 5, 1, 8, 5, 2, 2, 4, 8, 8, 2, 3, 3, 6, 8, 7, 2, 7, 7, 6, 5, 1, 9, 5, 6, 1, 1, 5, 6, 2, 4, 3, 6, 5, 7, 9, 1, 1, 5, 2, 5, 2, 5, 1, 2, 2, 3, 2, 5, 9, 6, 2, 3, 5, 5, 7, 5, 3, 3, 8, 5, 1, 1, 8, 1, 2, 9, 7, 2, 2, 5, 5, 5, 7, 2, 5, 2, 6, 5, 2, 2, 1, 3, 5, 1, 6, 5, 5, 4, 4, 2, 2, 7, 1, 1, 2, 4, 5, 3, 1, 7, 7, 6, 8, 2, 8, 5, 9, 9, 3, 3, 5, 3, 5, 1, 5, 5, 4, 2, 1, 2, 8, 8, 7, 6, 5, 8, 3, 2, 2, 2, 3, 5, 5, 5, 7, 7, 5, 3, 1, 4, 5, 2, 8, 7, 2, 5, 6, 2, 3, 7, 1, 4, 5, 1, 2, 7, 8, 7, 3, 5, 3, 7, 5, 5, 7, 3, 4, 1, 1, 3, 5, 5, 1, 7, 1, 1, 7, 1, 2, 3, 1, 1, 1, 6, 5, 2, 8, 5, 3, 1, 5, 2, 5, 5, 6, 5, 1, 5, 2, 2, 3, 8, 9, 1, 5, 8, 5, 7, 6, 5, 3, 1, 8, 2, 2, 2, 2, 2, 6, 5, 4, 5, 1, 4, 6, 6, 8, 7, 5, 7, 1, 8, 5, 1, 5, 5, 6, 5, 2, 9, 5, 1, 2, 2, 5, 1, 8, 8, 2, 2, 5, 2, 2, 7, 5, 2, 3, 3, 2, 3, 2, 1, 3, 8, 7, 8, 7, 2, 5, 5, 5, 7, 7, 5, 4, 7, 7, 7, 2, 1, 2, 6, 1, 6, 5, 5, 5, 8, 1, 5, 2, 2, 6, 5, 1, 3, 5, 2, 7, 2, 5, 3, 3, 5, 5, 2, 8, 2, 2, 2, 7, 2, 6, 6, 8, 7, 8, 2, 5, 3, 6, 5, 5, 3, 1, 8, 5, 3, 2, 6, 6, 5, 1, 5, 6, 7, 5, 5, 5, 4, 1, 5, 5, 3, 2, 2, 1, 5, 8, 2, 2, 2, 1, 8, 7, 2, 8, 2, 5, 5, 2, 7, 5, 5, 5, 5, 2, 8, 3, 2, 1, 3, 3, 5, 5, 6, 2, 5, 5, 1, 5, 5, 6, 3, 2, 5, 5, 5, 1, 1, 3, 7, 5, 2, 5, 3, 1, 3, 6, 9, 1, 7, 6, 5, 3, 2, 2, 8, 6, 2, 5, 5, 2, 6, 5, 7, 3, 3, 5, 5, 2, 2, 1, 8, 7, 8, 7, 7, 5, 5, 2, 7, 2, 9, 8, 2, 3, 8, 5, 6, 7, 5, 5, 2, 8, 9, 7, 5, 3, 2, 1, 2, 5, 6, 6, 4, 2, 8, 1, 2, 8, 8, 6, 5, 5, 5, 2, 5, 5, 3, 7, 7, 5, 8, 6, 7, 5, 5, 5, 5, 7, 5, 3, 1, 9, 1, 7, 7, 1, 7, 5, 5, 2, 5, 8, 2, 3, 3, 7, 9, 8, 5, 2, 5, 3, 1, 5, 4, 3, 5, 5, 2, 7, 5, 5, 7, 4, 8, 1, 5, 5, 3, 1, 8, 2, 6, 5, 6, 5, 9, 1, 9, 6, 5, 2, 6, 2, 3, 2, 3, 7, 5, 2, 5, 8, 5, 1, 7, 8, 5, 8, 2, 3, 1, 7, 9, 8, 9, 2, 5, 6, 2, 5, 6, 7, 7, 1, 5, 3, 1, 8, 6, 5, 7, 5, 5, 5, 2, 3, 2, 2, 9, 8, 6, 5, 3, 5, 3, 6, 4, 5, 7, 1, 1, 8, 6, 2, 7, 2, 4, 8, 5, 5, 4, 9, 7, 1, 7, 4, 5, 5, 2, 9, 6, 6, 2, 1, 2, 5, 6, 6, 3, 5, 5, 6, 5, 3, 5, 7, 2, 5, 7, 3, 5, 5, 5, 3, 3, 2, 5, 3, 6, 5, 1, 5, 8, 6, 5, 5, 3, 3, 8, 2, 1, 2, 1, 4, 5, 3, 8, 5, 5, 5, 2, 5, 1, 1, 2, 5, 8, 5, 3, 1, 3, 8, 2, 5, 5, 5, 3, 5, 5, 2, 5, 7, 2, 7, 6, 3, 8, 7, 1, 8, 6, 5, 6, 3, 2, 5, 5, 1, 5, 8, 8, 2, 8, 5, 1, 7, 6, 5, 6, 5, 6, 8, 7, 5, 1, 7, 2, 2, 8, 3, 2, 1, 8, 7, 7, 5, 1, 7, 8, 9, 2, 1, 8, 5, 8, 2, 5, 1, 3, 5, 1, 1, 2, 1, 5, 5, 5, 2, 6, 8, 8, 2, 1, 5, 7, 6, 7, 2, 8, 3, 8, 3, 5, 1, 8, 3, 3, 5, 8, 8, 5, 2, 6, 3, 1, 4, 1, 5, 3, 1, 4, 5, 2, 3, 2, 2, 5, 3, 2, 1, 1, 3, 3, 3, 8, 5, 5, 8, 8, 2, 5, 7, 4, 7, 1, 1, 5, 5, 6, 5, 5, 6, 9, 2, 9, 7, 7, 8, 2, 9, 5, 7, 4, 5, 5, 7, 5, 2, 2, 3, 7, 2, 1, 5, 5, 8, 5, 3, 8, 5, 6, 7, 5, 7, 6, 6, 2, 5, 5, 2, 8, 8, 8, 5, 9, 1, 8, 5, 1, 1, 6, 8, 5, 2, 7, 7, 7, 1, 5, 5, 7, 6, 1, 7, 1, 2, 6, 2, 5, 5, 2, 5, 1, 8, 5, 2, 1, 2, 6, 3, 4, 6, 1, 7, 2, 8, 3, 5, 5, 5, 1, 2, 5, 5, 1, 2, 2, 2, 2, 1, 5, 7, 7, 5, 7, 6, 7, 6, 7, 5, 6, 5, 6, 4, 6, 2, 5, 8, 1, 6, 6, 6, 9, 1, 2, 5, 7, 2, 7, 2, 7, 5, 5, 3, 5, 2, 7, 2, 2, 6, 2, 9, 3, 9, 5, 7, 1, 4, 6, 1, 6, 5, 2, 6, 2, 5, 2, 5, 8, 4, 8, 5, 3, 2, 8, 5, 8, 8, 2, 6, 5, 5, 8, 5, 5, 5, 5, 5, 9, 1, 5, 3, 5, 5, 8, 3, 6, 5, 5, 8, 8, 8, 8, 2, 7, 6, 5, 1, 7, 7, 1, 8, 7, 3, 8, 7, 2, 7, 5, 5, 1, 5, 8, 1, 1, 5, 1, 2, 2, 3, 5, 7, 5, 1, 5, 2, 3, 8, 5, 2, 2, 5, 5, 5, 1, 6, 1, 5, 8, 7, 3, 2, 8, 1, 8, 2, 5, 5, 1, 5, 7, 8, 1, 5, 5, 1, 8, 5, 5, 6, 3, 2, 1, 5, 4, 4, 1, 9, 9, 2, 2, 3, 2, 5, 6, 2, 3, 5, 5, 7, 9, 8, 8, 8, 5, 6, 5, 2, 1, 5, 5, 1, 3, 5, 9, 8, 9, 8, 2, 1, 1, 2, 6, 5, 3, 5, 2, 1, 5, 5, 5, 5, 5, 3, 3, 6, 2, 3, 1, 8, 9, 9, 8, 8, 1, 1, 5, 1, 5, 5, 9, 5, 9, 1, 4, 7, 2, 8, 9, 5, 6, 2, 1, 4, 8, 5, 6, 5, 7, 5, 3, 5, 6, 1, 8, 7, 2, 3, 8, 6, 5, 2, 7, 3, 2, 5, 7, 5, 5, 7, 3, 6, 8, 8, 7, 2, 7, 5, 4, 5, 5, 2, 2, 2, 3, 5, 5, 8, 1, 6, 8, 3, 9, 2, 2, 5, 8, 8, 1, 2, 5, 5, 7, 9, 3, 5, 2, 1, 1, 2, 8, 8, 7, 5, 1, 2, 8, 5, 5, 7, 7, 8, 7, 5, 3, 1, 2, 3, 5, 2, 6, 3, 3, 8, 8, 7, 4, 5, 6, 2, 5, 3, 6, 2, 5, 2, 2, 4, 1, 5, 8, 2, 2, 3, 1, 1, 2, 6, 2, 7, 3, 8, 7, 3, 2, 8, 2, 2, 5, 3, 5, 1, 5, 5, 2, 5, 1, 2, 5, 1, 5, 6, 2, 5, 3, 6, 6, 8, 8, 8, 3, 1, 5, 1, 5, 5, 8, 3, 5, 2, 8, 8, 5, 5, 5, 8, 5, 6, 1, 5, 5, 5, 7, 2, 2, 6, 5, 1, 5, 7, 4, 5, 4, 8, 7, 4, 8, 6, 6, 5, 1, 2, 2, 8, 5, 5, 6, 8, 1, 5, 3, 8, 6, 1, 6, 5, 8, 6, 8, 3, 5, 5, 2, 5, 8, 5, 3, 8, 3, 5, 5, 7, 2, 7, 1, 2, 2, 2, 5, 5, 5, 5, 2, 8, 5, 9, 3, 5, 5, 3, 2, 2, 1, 8, 9, 7, 6, 2, 1, 8, 8, 6, 8, 7, 5, 5, 8, 5, 2, 7, 5, 2, 7, 5, 5, 3, 6, 2, 8, 2, 3, 6, 7, 5, 1, 5, 2, 8, 1, 6, 5, 4, 8, 1, 5, 2, 5, 8, 8, 5, 7, 4, 6, 4, 2, 8, 3, 2, 5, 1, 5, 2, 1, 5, 4, 5, 3, 1, 5, 6, 6, 3, 6, 8, 1, 7, 5, 5, 2, 4, 8, 7, 2, 8, 1, 2, 1, 5, 7, 5, 6, 5, 8, 6, 3, 8, 5, 8, 6, 4, 1, 2, 5, 3, 7, 6, 2, 5, 5, 8, 2, 5, 9, 7, 4, 2, 8, 7, 7, 2, 5, 1, 6, 2, 1, 5, 1, 6, 5, 6, 9, 2, 1, 1, 5, 4, 5, 8, 7, 5, 3, 5, 3, 1, 6, 2, 8, 5, 1, 5, 5, 2, 7, 5, 5, 2, 1, 2, 2, 5, 3, 2, 3, 1, 5, 5, 3, 5, 1, 2, 2, 2, 5, 9, 1, 2, 2, 5, 5, 7, 5, 6, 2, 5, 7, 2, 6, 1, 3, 1, 8, 2, 8, 5, 3, 2, 1, 1, 7, 1, 3, 2, 3, 8, 8, 5, 2, 5, 5, 2, 5, 3, 5, 3, 3, 8, 2, 1, 5, 6, 9, 2, 3, 7, 1, 2, 6, 2, 4, 2, 2, 3, 5, 2, 2, 2, 1, 5, 3, 5, 8, 2, 3, 1, 5, 8, 7, 1, 9, 8, 7, 1, 5, 7, 3, 2, 7, 5, 7, 3, 1, 1, 8, 5, 6, 7, 5, 8, 1, 4, 5, 3, 2, 1, 7, 2, 1, 2, 5, 1, 2, 5, 8, 6, 1, 6, 5, 1, 8, 3, 4, 5, 7, 1, 5, 8, 8, 2, 1, 7, 3, 8, 5, 5, 4, 1, 8, 5, 8, 8, 5, 2, 3, 2, 9, 7, 5, 1, 5, 6, 6, 4, 4, 1, 8, 6, 5, 2, 2, 5, 3, 5, 5, 2, 6, 7, 5, 1, 3, 4, 5, 3, 7, 9, 8, 7, 6, 3, 2, 5, 3, 4, 5, 1, 5, 1, 1, 2, 5, 5, 1, 1, 8, 5, 8, 6, 2, 2, 3, 1, 1, 2, 9, 1, 9, 5, 7, 1, 6, 8, 1, 5, 6, 8, 6, 9, 1, 8, 6, 3, 1, 1, 2, 5, 2, 1, 2, 1, 2, 7, 2, 2, 5, 2, 8, 7, 8, 1, 5, 1, 8, 9, 1, 6, 2, 5, 1, 5, 5, 2, 1, 5, 2, 4, 3, 5, 3, 1, 2, 2, 5, 2, 6, 2, 3, 6, 2, 8, 5, 8, 3, 2, 3, 2, 5, 2, 5, 5, 3, 5, 2, 1, 5, 5, 5, 2, 5, 1, 5, 5, 3, 6, 5, 3, 3, 2, 1, 5, 1, 2, 2, 5, 5, 5, 8, 1, 1, 5, 8, 3, 2, 8, 1, 8, 1, 2, 8, 3, 1, 3, 3, 1, 2, 1, 1, 3, 1, 5, 5, 3, 3, 9, 2, 6, 3, 8, 3, 6, 5, 5, 5, 5, 8, 3, 2, 1, 8, 4, 3, 7, 3, 1, 5, 5, 5, 4, 5, 8, 2, 3, 1, 3, 1, 4, 5, 5, 1, 5, 3, 2, 8, 8, 1, 4, 5, 3, 1, 5, 3, 3, 1, 8, 6, 8, 7, 7, 5, 8, 6, 2, 6, 5, 2, 5, 2, 5, 2, 7, 8, 1, 7, 8, 6, 9, 6, 1, 5, 7, 2, 5, 5, 2, 1, 1, 7, 3, 5, 2, 3, 2, 7, 8, 1, 1, 8, 2, 9, 2, 3, 7, 3, 2, 1, 1, 1, 2, 1, 3, 2, 8, 5, 2, 2, 5, 5, 5, 4, 7, 6, 6, 5, 7, 1, 3, 3, 3, 1, 3, 2, 8, 1, 8, 5, 8, 7, 7, 3, 1, 2, 2, 5, 1, 1, 7, 5, 9, 9, 8, 2, 2, 2, 6, 8, 8, 8, 8, 7, 7, 5, 5, 1, 1, 6, 3, 7, 5, 5, 4, 9, 1, 3, 8, 3, 5, 5, 5, 5, 6, 5, 8, 1, 1, 2, 3, 2, 1, 3, 9, 7, 1, 4, 5, 2, 8, 5, 8, 1, 1, 5, 5, 5, 1, 6, 2, 6, 5, 3, 8, 5, 1, 3, 5, 8, 7, 6, 7, 4, 2, 7, 7, 6, 5, 6, 7, 1, 6, 3, 2, 5, 1, 1, 1, 5, 2, 2, 5, 1, 2, 5, 5, 8, 5, 1, 5, 6, 9, 6, 5, 5, 8, 7, 8, 5, 8, 7, 7, 1, 3, 7, 1, 2, 1, 2, 7, 7, 1, 5, 2, 3, 5, 2, 5, 3, 1, 2, 2, 5, 2, 2, 8, 3, 3, 5, 5, 5, 5, 8, 2, 7, 8, 8, 6, 2, 8, 7, 5, 6, 2, 1, 8, 5, 5, 2, 1, 7, 9, 3, 7, 8, 7, 3, 5, 3, 1, 1, 7, 7, 4, 5, 6, 2, 7, 1, 6, 9, 6, 6, 1, 2, 5, 2, 9, 6, 2, 8, 5, 2, 1, 2, 1, 2, 8, 5, 1, 6, 5, 2, 3, 5, 2, 8, 5, 5, 5, 2, 2, 1, 2, 2, 5, 3, 7, 1, 8, 3, 2, 8, 2, 5, 6, 2, 4, 4, 6, 8, 5, 8, 5, 5, 2, 5, 7, 2, 5, 8, 8, 3, 6, 1, 2, 8, 5, 8, 5, 9, 2, 3, 9, 9, 8, 6, 8, 5, 1, 3, 9, 8, 7, 1, 2, 2, 5, 5, 3, 5, 1, 9, 1, 8, 5, 2, 1, 8, 5, 1, 6, 5, 6, 6, 7, 8, 5, 3, 5, 8, 1, 2, 2, 2, 2, 6, 5, 5, 8, 2, 1, 9, 6, 8, 4, 3, 5, 3, 7, 8, 2, 8, 7, 7, 1, 7, 2, 2, 9, 3, 5, 2, 8, 2, 8, 8, 7, 1, 1, 1, 1, 5, 6, 1, 7, 3, 1, 1, 5, 6, 7, 7, 1, 2, 1, 5, 3, 8, 4, 5, 2, 3, 6, 1, 1, 4, 2, 1, 7, 3, 7, 4, 8, 5, 5, 5, 2, 8, 3, 8, 7, 1, 5, 2, 2, 8, 5, 5, 8, 6, 2, 3, 5, 5, 7, 8, 1, 7, 9, 2, 7, 7, 2, 2, 2, 5, 8, 5, 8, 6, 4, 9, 5, 5, 1, 3, 5, 5, 5, 9, 7, 3, 2, 8, 9, 2, 8, 3, 7, 3, 2, 5, 7, 2, 7, 8, 5, 9, 2, 5, 3, 3, 2, 7, 7, 1, 5, 5, 6, 7, 5, 2, 3, 5, 5, 7, 8, 7, 5, 9, 7, 7, 8, 6, 5, 5, 8, 1, 3, 6, 5, 1, 5, 2, 7, 5, 5, 6, 3, 3, 5, 5, 2, 1, 1, 2, 2, 2, 1, 6, 7, 8, 5, 2, 5, 6, 5, 5, 5, 3, 3, 5, 5, 4, 2, 5, 8, 5, 5, 2, 5, 2, 7, 6, 6, 8, 8, 3, 5, 1, 2, 5, 6, 7, 3, 3, 5, 5, 7, 6, 1, 6, 6, 8, 2, 5, 8, 2, 2, 8, 7, 7, 5, 5, 9, 3, 5, 2, 3, 6, 7, 1, 6, 5, 2, 1, 6, 6, 5, 9, 8, 5, 3, 8, 6, 6, 6, 8, 8, 6, 2, 3, 7, 1, 6, 2, 7, 5, 3, 6, 6, 7, 3, 5, 9, 7, 6, 1, 3, 5, 5, 8, 6, 3, 7, 1, 5, 8, 3, 1, 1, 3, 2, 5, 6, 2, 1, 4, 1, 5, 3, 3, 6, 8, 5, 2, 5, 3, 2, 9, 6, 2, 5, 5, 9, 1, 6, 8, 2, 2, 3, 5, 5, 5, 2, 2, 5, 7, 5, 7, 1, 1, 5, 1, 3, 4, 7, 1, 2, 3, 3, 7, 7, 3, 5, 4, 7, 1, 2, 5, 8, 7, 8, 6, 3, 1, 1, 1, 8, 3, 1, 7, 6, 2, 8, 6, 3, 2, 6, 7, 5, 5, 8, 5, 2, 3, 1, 8, 7, 5, 2, 8, 2, 5, 7, 1, 1, 4, 8, 1, 1, 2, 5, 5, 5, 5, 5, 5, 5, 3, 2, 5, 7, 5, 8, 2, 8, 8, 1, 5, 7, 1, 1, 5, 5, 2, 1, 2, 8, 5, 2, 8, 5, 1, 2, 4, 8, 5, 5, 8, 2, 5, 5, 6, 5, 5, 1, 2, 5, 5, 5, 3, 2, 4, 4, 7, 2, 9, 8, 8, 2, 7, 2, 8, 8, 7, 2, 2, 1, 1, 8, 3, 1, 5, 6, 5, 9, 5, 2, 5, 5, 8, 5, 2, 8, 9, 1, 5, 7, 5, 5, 2, 2, 2, 5, 8, 5, 1, 5, 5, 8, 5, 7, 1, 8, 5, 9, 1, 7, 5, 7]\n"
     ]
    }
   ],
   "source": [
    "print(Y_train)"
   ]
  },
  {
   "cell_type": "markdown",
   "metadata": {},
   "source": [
    "#### Type I\n",
    "- removal of anomalies\n",
    "- removal of noise"
   ]
  },
  {
   "cell_type": "markdown",
   "metadata": {},
   "source": [
    "# FEATURE ENGINEERING"
   ]
  },
  {
   "cell_type": "code",
   "execution_count": 32,
   "metadata": {},
   "outputs": [],
   "source": [
    "\n",
    "X_train = []\n",
    "for ii in range(len(list_data_train)):\n",
    "# for ii in range(2):\n",
    "    #features = get_12ECG_features_r1(data, header_data)\n",
    "    features = get_12ECG_features_r1(list_data_train[ii], list_meta_train[ii])\n",
    "    \n",
    "    X_train.append(features)\n",
    "    \n",
    "X_train = np.array(X_train) "
   ]
  },
  {
   "cell_type": "code",
   "execution_count": 33,
   "metadata": {},
   "outputs": [],
   "source": [
    "X_valid = []\n",
    "for ii in range(len(list_data_valid)):\n",
    "    features = get_12ECG_features_r1(list_data_valid[ii], list_meta_valid[ii])\n",
    "    \n",
    "    X_valid.append(features)\n",
    "    \n",
    "X_valid = np.array(X_valid) "
   ]
  },
  {
   "cell_type": "code",
   "execution_count": 49,
   "metadata": {},
   "outputs": [],
   "source": [
    "X_test = []\n",
    "for ii in range(len(list_data_test)):\n",
    "    features = get_12ECG_features_r1(list_data_test[ii], list_meta_test[ii])\n",
    "    \n",
    "    X_test.append(features)\n",
    "    \n",
    "X_test = np.array(X_test) "
   ]
  },
  {
   "cell_type": "code",
   "execution_count": 34,
   "metadata": {},
   "outputs": [
    {
     "name": "stdout",
     "output_type": "stream",
     "text": [
      "Training Features Shape: (4125, 14)\n",
      "Training Labels Shape: (4125, 9)\n",
      "Testing Features Shape: (1376, 14)\n",
      "Testing Labels Shape: (1376, 9)\n"
     ]
    }
   ],
   "source": [
    "print('Training Features Shape:', X_train.shape)\n",
    "print('Training Labels Shape:', Y_train.shape)\n",
    "print('Testing Features Shape:', X_valid.shape)\n",
    "print('Testing Labels Shape:', Y_valid.shape)"
   ]
  },
  {
   "cell_type": "code",
   "execution_count": null,
   "metadata": {},
   "outputs": [],
   "source": []
  },
  {
   "cell_type": "markdown",
   "metadata": {},
   "source": [
    "# CLASSIFICATION"
   ]
  },
  {
   "cell_type": "markdown",
   "metadata": {},
   "source": [
    "### Random Forest"
   ]
  },
  {
   "cell_type": "code",
   "execution_count": 99,
   "metadata": {},
   "outputs": [
    {
     "data": {
      "text/plain": [
       "RandomForestClassifier(n_jobs=2, random_state=0)"
      ]
     },
     "execution_count": 99,
     "metadata": {},
     "output_type": "execute_result"
    }
   ],
   "source": [
    "clf_rf = RandomForestClassifier(n_jobs=2, random_state=0)\n",
    "\n",
    "clf_rf.fit(X_train,Y_train)"
   ]
  },
  {
   "cell_type": "markdown",
   "metadata": {},
   "source": [
    "### Random Forest + Grid Search"
   ]
  },
  {
   "cell_type": "code",
   "execution_count": 106,
   "metadata": {},
   "outputs": [
    {
     "data": {
      "text/plain": [
       "{'criterion': 'gini',\n",
       " 'max_depth': 7,\n",
       " 'max_features': 'auto',\n",
       " 'n_estimators': 200}"
      ]
     },
     "execution_count": 106,
     "metadata": {},
     "output_type": "execute_result"
    }
   ],
   "source": [
    "param_grid = { \n",
    "    'n_estimators': [10, 25, 50, 100, 200, 300, 500],\n",
    "    'max_features': ['auto', 'sqrt', 'log2'],\n",
    "    'max_depth' : [2, 4,5,6,7,8],\n",
    "    'criterion' :['gini', 'entropy']\n",
    "}\n",
    "\n",
    "CV_rf = GridSearchCV(estimator=clf_rf, param_grid=param_grid, cv= 5)\n",
    "CV_rf.fit(X_train, Y_train)\n",
    "\n",
    "CV_rf.best_params_"
   ]
  },
  {
   "cell_type": "code",
   "execution_count": 107,
   "metadata": {},
   "outputs": [],
   "source": [
    "clf_rf1 = RandomForestClassifier(random_state=42, \n",
    "                                 max_features=CV_rf.best_params_['max_features'], \n",
    "                                 n_estimators= CV_rf.best_params_['n_estimators'], \n",
    "                                 max_depth=CV_rf.best_params_['max_depth'], \n",
    "                                 criterion=CV_rf.best_params_['criterion'])"
   ]
  },
  {
   "cell_type": "code",
   "execution_count": 108,
   "metadata": {},
   "outputs": [
    {
     "data": {
      "text/plain": [
       "RandomForestClassifier(max_depth=7, n_estimators=200, random_state=42)"
      ]
     },
     "execution_count": 108,
     "metadata": {},
     "output_type": "execute_result"
    }
   ],
   "source": [
    "clf_rf1.fit(X_train, Y_train)"
   ]
  },
  {
   "cell_type": "markdown",
   "metadata": {},
   "source": [
    "### DNN Classifier"
   ]
  },
  {
   "cell_type": "code",
   "execution_count": 65,
   "metadata": {},
   "outputs": [],
   "source": [
    "classifier = Sequential()\n",
    "\n",
    "classifier.add(Dense(100, activation='relu', kernel_initializer='random_normal', input_dim=X_train.shape[1]))\n",
    "classifier.add(Dense(100, activation='relu', kernel_initializer='random_normal'))\n",
    "classifier.add(Dense(100, activation='relu', kernel_initializer='random_normal'))\n",
    "\n",
    "classifier.add(Dense(Y_train.shape[1], activation='sigmoid', kernel_initializer='random_normal'))"
   ]
  },
  {
   "cell_type": "code",
   "execution_count": 66,
   "metadata": {},
   "outputs": [],
   "source": [
    "classifier.compile(optimizer ='adam',loss='binary_crossentropy', metrics =['accuracy'])"
   ]
  },
  {
   "cell_type": "code",
   "execution_count": 67,
   "metadata": {
    "scrolled": true
   },
   "outputs": [
    {
     "name": "stdout",
     "output_type": "stream",
     "text": [
      "Epoch 1/100\n",
      "4125/4125 [==============================] - 2s 519us/step - loss: 83793016343.4133 - accuracy: 0.7554\n",
      "Epoch 2/100\n",
      "4125/4125 [==============================] - 1s 313us/step - loss: 30353698279.9924 - accuracy: 0.7888\n",
      "Epoch 3/100\n",
      "4125/4125 [==============================] - 1s 322us/step - loss: 16694293378.5579 - accuracy: 0.7401\n",
      "Epoch 4/100\n",
      "4125/4125 [==============================] - 1s 316us/step - loss: 1189105478.0809 - accuracy: 0.8446\n",
      "Epoch 5/100\n",
      "4125/4125 [==============================] - 1s 317us/step - loss: 120.8185 - accuracy: 0.8839\n",
      "Epoch 6/100\n",
      "4125/4125 [==============================] - 1s 353us/step - loss: 76.5045 - accuracy: 0.8843\n",
      "Epoch 7/100\n",
      "4125/4125 [==============================] - 1s 321us/step - loss: 60.7065 - accuracy: 0.8845\n",
      "Epoch 8/100\n",
      "4125/4125 [==============================] - 1s 316us/step - loss: 53.3127 - accuracy: 0.8846\n",
      "Epoch 9/100\n",
      "4125/4125 [==============================] - 1s 320us/step - loss: 48.4150 - accuracy: 0.8854\n",
      "Epoch 10/100\n",
      "4125/4125 [==============================] - 1s 331us/step - loss: 36.9922 - accuracy: 0.8864\n",
      "Epoch 11/100\n",
      "4125/4125 [==============================] - 1s 329us/step - loss: 26.8053 - accuracy: 0.8864\n",
      "Epoch 12/100\n",
      "4125/4125 [==============================] - 1s 314us/step - loss: 22.2466 - accuracy: 0.8870\n",
      "Epoch 13/100\n",
      "4125/4125 [==============================] - 1s 319us/step - loss: 15.1674 - accuracy: 0.8872\n",
      "Epoch 14/100\n",
      "4125/4125 [==============================] - 1s 326us/step - loss: 48235.3841 - accuracy: 0.8854\n",
      "Epoch 15/100\n",
      "4125/4125 [==============================] - 1s 316us/step - loss: 20.4824 - accuracy: 0.8875\n",
      "Epoch 16/100\n",
      "4125/4125 [==============================] - 1s 326us/step - loss: 10.1063 - accuracy: 0.8876\n",
      "Epoch 17/100\n",
      "4125/4125 [==============================] - 1s 327us/step - loss: 7.6930 - accuracy: 0.8876\n",
      "Epoch 18/100\n",
      "4125/4125 [==============================] - 1s 313us/step - loss: 9.6500 - accuracy: 0.8874\n",
      "Epoch 19/100\n",
      "4125/4125 [==============================] - 1s 313us/step - loss: 8.1115 - accuracy: 0.8879\n",
      "Epoch 20/100\n",
      "4125/4125 [==============================] - 1s 325us/step - loss: 10.4098 - accuracy: 0.8880\n",
      "Epoch 21/100\n",
      "4125/4125 [==============================] - 1s 314us/step - loss: 6.7411 - accuracy: 0.8880\n",
      "Epoch 22/100\n",
      "4125/4125 [==============================] - 1s 333us/step - loss: 8.3322 - accuracy: 0.8877\n",
      "Epoch 23/100\n",
      "4125/4125 [==============================] - 1s 319us/step - loss: 5.4989 - accuracy: 0.8881\n",
      "Epoch 24/100\n",
      "4125/4125 [==============================] - 1s 336us/step - loss: 7.2775 - accuracy: 0.8880\n",
      "Epoch 25/100\n",
      "4125/4125 [==============================] - 1s 324us/step - loss: 4.7882 - accuracy: 0.8882\n",
      "Epoch 26/100\n",
      "4125/4125 [==============================] - 1s 310us/step - loss: 6.3460 - accuracy: 0.8877\n",
      "Epoch 27/100\n",
      "4125/4125 [==============================] - 1s 313us/step - loss: 8.5331 - accuracy: 0.8883\n",
      "Epoch 28/100\n",
      "4125/4125 [==============================] - 1s 317us/step - loss: 7.4822 - accuracy: 0.8882\n",
      "Epoch 29/100\n",
      "4125/4125 [==============================] - 1s 333us/step - loss: 130.1345 - accuracy: 0.8869\n",
      "Epoch 30/100\n",
      "4125/4125 [==============================] - 1s 334us/step - loss: 5.4414 - accuracy: 0.8883\n",
      "Epoch 31/100\n",
      "4125/4125 [==============================] - 1s 319us/step - loss: 3.7351 - accuracy: 0.8885\n",
      "Epoch 32/100\n",
      "4125/4125 [==============================] - 1s 324us/step - loss: 3.9603 - accuracy: 0.8884\n",
      "Epoch 33/100\n",
      "4125/4125 [==============================] - 1s 339us/step - loss: 3.2420 - accuracy: 0.8885\n",
      "Epoch 34/100\n",
      "4125/4125 [==============================] - 1s 342us/step - loss: 3.6973 - accuracy: 0.8885\n",
      "Epoch 35/100\n",
      "4125/4125 [==============================] - 1s 331us/step - loss: 3.5974 - accuracy: 0.8883\n",
      "Epoch 36/100\n",
      "4125/4125 [==============================] - 1s 339us/step - loss: 3.3627 - accuracy: 0.8884\n",
      "Epoch 37/100\n",
      "4125/4125 [==============================] - 1s 333us/step - loss: 2.8463 - accuracy: 0.8885\n",
      "Epoch 38/100\n",
      "4125/4125 [==============================] - 1s 327us/step - loss: 2.0288 - accuracy: 0.8885\n",
      "Epoch 39/100\n",
      "4125/4125 [==============================] - 1s 318us/step - loss: 2.1469 - accuracy: 0.8886\n",
      "Epoch 40/100\n",
      "4125/4125 [==============================] - 1s 338us/step - loss: 2.6050 - accuracy: 0.8885\n",
      "Epoch 41/100\n",
      "4125/4125 [==============================] - 1s 336us/step - loss: 3.4986 - accuracy: 0.8883\n",
      "Epoch 42/100\n",
      "4125/4125 [==============================] - 1s 351us/step - loss: 1.9724 - accuracy: 0.8885\n",
      "Epoch 43/100\n",
      "4125/4125 [==============================] - 1s 336us/step - loss: 1.2767 - accuracy: 0.8885\n",
      "Epoch 44/100\n",
      "4125/4125 [==============================] - 1s 345us/step - loss: 1.5335 - accuracy: 0.8886\n",
      "Epoch 45/100\n",
      "4125/4125 [==============================] - 1s 336us/step - loss: 2.8591 - accuracy: 0.8882\n",
      "Epoch 46/100\n",
      "4125/4125 [==============================] - 1s 338us/step - loss: 1.6239 - accuracy: 0.8886\n",
      "Epoch 47/100\n",
      "4125/4125 [==============================] - 1s 333us/step - loss: 2.9505 - accuracy: 0.8883\n",
      "Epoch 48/100\n",
      "4125/4125 [==============================] - 1s 319us/step - loss: 1.5119 - accuracy: 0.8885\n",
      "Epoch 49/100\n",
      "4125/4125 [==============================] - 1s 322us/step - loss: 1.2298 - accuracy: 0.8886\n",
      "Epoch 50/100\n",
      "4125/4125 [==============================] - 1s 313us/step - loss: 1.2037 - accuracy: 0.8885\n",
      "Epoch 51/100\n",
      "4125/4125 [==============================] - 1s 333us/step - loss: 1.5230 - accuracy: 0.8886\n",
      "Epoch 52/100\n",
      "4125/4125 [==============================] - 1s 314us/step - loss: 3.1946 - accuracy: 0.8884\n",
      "Epoch 53/100\n",
      "4125/4125 [==============================] - 1s 334us/step - loss: 1.3442 - accuracy: 0.8885\n",
      "Epoch 54/100\n",
      "4125/4125 [==============================] - 1s 338us/step - loss: 1.0530 - accuracy: 0.8888\n",
      "Epoch 55/100\n",
      "4125/4125 [==============================] - 1s 329us/step - loss: 1.0564 - accuracy: 0.8888\n",
      "Epoch 56/100\n",
      "4125/4125 [==============================] - 1s 325us/step - loss: 0.6484 - accuracy: 0.8889\n",
      "Epoch 57/100\n",
      "4125/4125 [==============================] - 1s 316us/step - loss: 2.4107 - accuracy: 0.8882\n",
      "Epoch 58/100\n",
      "4125/4125 [==============================] - 1s 326us/step - loss: 1.1840 - accuracy: 0.8888\n",
      "Epoch 59/100\n",
      "4125/4125 [==============================] - 1s 318us/step - loss: 1.3364 - accuracy: 0.8883\n",
      "Epoch 60/100\n",
      "4125/4125 [==============================] - 1s 315us/step - loss: 0.9381 - accuracy: 0.8885\n",
      "Epoch 61/100\n",
      "4125/4125 [==============================] - 1s 322us/step - loss: 4.7262 - accuracy: 0.8885\n",
      "Epoch 62/100\n",
      "4125/4125 [==============================] - 1s 338us/step - loss: 0.6908 - accuracy: 0.8889\n",
      "Epoch 63/100\n",
      "4125/4125 [==============================] - 1s 328us/step - loss: 0.7749 - accuracy: 0.8888\n",
      "Epoch 64/100\n",
      "4125/4125 [==============================] - 1s 351us/step - loss: 0.9135 - accuracy: 0.8887\n",
      "Epoch 65/100\n",
      "4125/4125 [==============================] - 1s 337us/step - loss: 1.3519 - accuracy: 0.8887\n",
      "Epoch 66/100\n",
      "4125/4125 [==============================] - 1s 337us/step - loss: 24819241712.6550 - accuracy: 0.7792\n",
      "Epoch 67/100\n",
      "4125/4125 [==============================] - 1s 355us/step - loss: 7567358506.5402 - accuracy: 0.8694\n",
      "Epoch 68/100\n",
      "4125/4125 [==============================] - 1s 343us/step - loss: 0.3298 - accuracy: 0.8889\n",
      "Epoch 69/100\n",
      "4125/4125 [==============================] - 1s 347us/step - loss: 0.3287 - accuracy: 0.8889\n",
      "Epoch 70/100\n",
      "4125/4125 [==============================] - 1s 326us/step - loss: 0.3282 - accuracy: 0.8889\n",
      "Epoch 71/100\n",
      "4125/4125 [==============================] - 1s 320us/step - loss: 0.3279 - accuracy: 0.8889\n",
      "Epoch 72/100\n",
      "4125/4125 [==============================] - 1s 327us/step - loss: 0.3278 - accuracy: 0.8889\n",
      "Epoch 73/100\n",
      "4125/4125 [==============================] - 1s 360us/step - loss: 0.3277 - accuracy: 0.8889\n",
      "Epoch 74/100\n",
      "4125/4125 [==============================] - 2s 364us/step - loss: 0.3277 - accuracy: 0.8889\n",
      "Epoch 75/100\n",
      "4125/4125 [==============================] - 1s 362us/step - loss: 0.3276 - accuracy: 0.8889\n",
      "Epoch 76/100\n",
      "4125/4125 [==============================] - 1s 334us/step - loss: 0.3276 - accuracy: 0.8889\n",
      "Epoch 77/100\n"
     ]
    },
    {
     "name": "stdout",
     "output_type": "stream",
     "text": [
      "4125/4125 [==============================] - 1s 320us/step - loss: 0.3276 - accuracy: 0.8889\n",
      "Epoch 78/100\n",
      "4125/4125 [==============================] - 1s 313us/step - loss: 0.3276 - accuracy: 0.8889\n",
      "Epoch 79/100\n",
      "4125/4125 [==============================] - 1s 307us/step - loss: 0.3276 - accuracy: 0.8889\n",
      "Epoch 80/100\n",
      "4125/4125 [==============================] - 1s 309us/step - loss: 0.3276 - accuracy: 0.8889\n",
      "Epoch 81/100\n",
      "4125/4125 [==============================] - 1s 305us/step - loss: 0.3276 - accuracy: 0.8889\n",
      "Epoch 82/100\n",
      "4125/4125 [==============================] - 1s 313us/step - loss: 0.3276 - accuracy: 0.8889\n",
      "Epoch 83/100\n",
      "4125/4125 [==============================] - 1s 335us/step - loss: 0.3276 - accuracy: 0.8889\n",
      "Epoch 84/100\n",
      "4125/4125 [==============================] - 1s 336us/step - loss: 0.3276 - accuracy: 0.8889\n",
      "Epoch 85/100\n",
      "4125/4125 [==============================] - 1s 330us/step - loss: 0.3276 - accuracy: 0.8889\n",
      "Epoch 86/100\n",
      "4125/4125 [==============================] - 1s 335us/step - loss: 0.3276 - accuracy: 0.8889\n",
      "Epoch 87/100\n",
      "4125/4125 [==============================] - 1s 329us/step - loss: 0.3276 - accuracy: 0.8889\n",
      "Epoch 88/100\n",
      "4125/4125 [==============================] - 1s 322us/step - loss: 0.3276 - accuracy: 0.8889\n",
      "Epoch 89/100\n",
      "4125/4125 [==============================] - 1s 307us/step - loss: 0.3276 - accuracy: 0.8889\n",
      "Epoch 90/100\n",
      "4125/4125 [==============================] - 1s 311us/step - loss: 0.3276 - accuracy: 0.8889\n",
      "Epoch 91/100\n",
      "4125/4125 [==============================] - 1s 354us/step - loss: 0.3276 - accuracy: 0.8889\n",
      "Epoch 92/100\n",
      "4125/4125 [==============================] - 1s 322us/step - loss: 0.3276 - accuracy: 0.8889\n",
      "Epoch 93/100\n",
      "4125/4125 [==============================] - 1s 323us/step - loss: 0.3276 - accuracy: 0.8889\n",
      "Epoch 94/100\n",
      "4125/4125 [==============================] - 1s 335us/step - loss: 0.3276 - accuracy: 0.8889\n",
      "Epoch 95/100\n",
      "4125/4125 [==============================] - 1s 349us/step - loss: 0.3276 - accuracy: 0.8889\n",
      "Epoch 96/100\n",
      "4125/4125 [==============================] - 1s 329us/step - loss: 0.3277 - accuracy: 0.8889\n",
      "Epoch 97/100\n",
      "4125/4125 [==============================] - 1s 332us/step - loss: 0.3276 - accuracy: 0.8889\n",
      "Epoch 98/100\n",
      "4125/4125 [==============================] - 1s 327us/step - loss: 0.3277 - accuracy: 0.8889\n",
      "Epoch 99/100\n",
      "4125/4125 [==============================] - 1s 325us/step - loss: 0.3277 - accuracy: 0.8889\n",
      "Epoch 100/100\n",
      "4125/4125 [==============================] - 1s 331us/step - loss: 0.3276 - accuracy: 0.8889\n"
     ]
    },
    {
     "data": {
      "text/plain": [
       "<keras.callbacks.callbacks.History at 0x1a33a6c7348>"
      ]
     },
     "execution_count": 67,
     "metadata": {},
     "output_type": "execute_result"
    }
   ],
   "source": [
    "#Fitting the data to the training dataset\n",
    "classifier.fit(X_train,Y_train, batch_size=10, epochs=100)"
   ]
  },
  {
   "cell_type": "code",
   "execution_count": null,
   "metadata": {},
   "outputs": [],
   "source": []
  },
  {
   "cell_type": "code",
   "execution_count": null,
   "metadata": {},
   "outputs": [],
   "source": [
    "\n"
   ]
  },
  {
   "cell_type": "code",
   "execution_count": null,
   "metadata": {},
   "outputs": [],
   "source": []
  },
  {
   "cell_type": "markdown",
   "metadata": {},
   "source": [
    "# PREDICTION"
   ]
  },
  {
   "cell_type": "code",
   "execution_count": 109,
   "metadata": {},
   "outputs": [],
   "source": [
    "Y_pred = clf_rf1.predict(X_test)\n",
    "Y_prob = clf_rf1.predict_proba(X_test)"
   ]
  },
  {
   "cell_type": "code",
   "execution_count": 110,
   "metadata": {},
   "outputs": [
    {
     "name": "stdout",
     "output_type": "stream",
     "text": [
      "[8 5 1 ... 5 5 5]\n"
     ]
    }
   ],
   "source": [
    "print(Y_pred)"
   ]
  },
  {
   "cell_type": "code",
   "execution_count": 111,
   "metadata": {},
   "outputs": [
    {
     "name": "stdout",
     "output_type": "stream",
     "text": [
      "[[107   8   1   0  61   1   1  10   0]\n",
      " [  1 104   4   0  80   5   1   9   0]\n",
      " [ 12  24   6   0 109   2   2   3   0]\n",
      " [  1  22   0   0  17   0   0   4   0]\n",
      " [ 31  54   5   0 203   7   7  22   0]\n",
      " [  7  34   5   0  46  12   8  12   0]\n",
      " [ 10  28   3   0  52   1  24   6   0]\n",
      " [ 23  20   2   0  61   2   4  52   0]\n",
      " [ 13   3   0   0  22   0   2   0   0]]\n",
      "              precision    recall  f1-score   support\n",
      "\n",
      "           1       0.52      0.57      0.54       189\n",
      "           2       0.35      0.51      0.42       204\n",
      "           3       0.23      0.04      0.07       158\n",
      "           4       0.00      0.00      0.00        44\n",
      "           5       0.31      0.62      0.41       329\n",
      "           6       0.40      0.10      0.16       124\n",
      "           7       0.49      0.19      0.28       124\n",
      "           8       0.44      0.32      0.37       164\n",
      "           9       0.00      0.00      0.00        40\n",
      "\n",
      "    accuracy                           0.37      1376\n",
      "   macro avg       0.31      0.26      0.25      1376\n",
      "weighted avg       0.36      0.37      0.33      1376\n",
      "\n",
      "0.3691860465116279\n"
     ]
    },
    {
     "name": "stderr",
     "output_type": "stream",
     "text": [
      "C:\\Users\\muham\\.conda\\envs\\tf2_gpu\\lib\\site-packages\\sklearn\\metrics\\_classification.py:1221: UndefinedMetricWarning: Precision and F-score are ill-defined and being set to 0.0 in labels with no predicted samples. Use `zero_division` parameter to control this behavior.\n",
      "  _warn_prf(average, modifier, msg_start, len(result))\n"
     ]
    }
   ],
   "source": [
    "from sklearn.metrics import classification_report, confusion_matrix, accuracy_score\n",
    "\n",
    "print(confusion_matrix(Y_test,Y_pred))\n",
    "print(classification_report(Y_test,Y_pred))\n",
    "print(accuracy_score(Y_test, Y_pred))"
   ]
  },
  {
   "cell_type": "markdown",
   "metadata": {},
   "source": [
    "### DNN Classifier"
   ]
  },
  {
   "cell_type": "code",
   "execution_count": 86,
   "metadata": {},
   "outputs": [],
   "source": [
    "Y_pred=classifier.predict(X_test)\n",
    "# Y_pred =(Y_pred>0.5)"
   ]
  },
  {
   "cell_type": "code",
   "execution_count": 90,
   "metadata": {},
   "outputs": [
    {
     "name": "stdout",
     "output_type": "stream",
     "text": [
      "[[0 0 0 ... 0 0 0]\n",
      " [0 0 0 ... 0 0 0]\n",
      " [0 0 0 ... 0 0 0]\n",
      " ...\n",
      " [0 0 0 ... 0 0 0]\n",
      " [0 0 0 ... 0 0 0]\n",
      " [0 0 0 ... 0 0 0]]\n"
     ]
    }
   ],
   "source": [
    "print(Y_pred)"
   ]
  },
  {
   "cell_type": "code",
   "execution_count": 88,
   "metadata": {},
   "outputs": [
    {
     "ename": "ValueError",
     "evalue": "Classification metrics can't handle a mix of multilabel-indicator and continuous-multioutput targets",
     "output_type": "error",
     "traceback": [
      "\u001b[1;31m---------------------------------------------------------------------------\u001b[0m",
      "\u001b[1;31mValueError\u001b[0m                                Traceback (most recent call last)",
      "\u001b[1;32m<ipython-input-88-728d3405db8b>\u001b[0m in \u001b[0;36m<module>\u001b[1;34m\u001b[0m\n\u001b[1;32m----> 1\u001b[1;33m \u001b[0maccuracy\u001b[0m\u001b[1;33m=\u001b[0m\u001b[0maccuracy_score\u001b[0m\u001b[1;33m(\u001b[0m\u001b[0mY_test\u001b[0m\u001b[1;33m,\u001b[0m \u001b[0mY_pred\u001b[0m\u001b[1;33m)\u001b[0m\u001b[1;33m\u001b[0m\u001b[1;33m\u001b[0m\u001b[0m\n\u001b[0m\u001b[0;32m      2\u001b[0m \u001b[0mprint\u001b[0m\u001b[1;33m(\u001b[0m\u001b[1;34m'Accuracy: '\u001b[0m\u001b[1;33m,\u001b[0m\u001b[0maccuracy\u001b[0m\u001b[1;33m)\u001b[0m\u001b[1;33m\u001b[0m\u001b[1;33m\u001b[0m\u001b[0m\n\u001b[0;32m      3\u001b[0m \u001b[1;33m\u001b[0m\u001b[0m\n\u001b[0;32m      4\u001b[0m \u001b[1;31m# roc_value = roc_auc_score(Y_test,Y_prob)\u001b[0m\u001b[1;33m\u001b[0m\u001b[1;33m\u001b[0m\u001b[1;33m\u001b[0m\u001b[0m\n\u001b[0;32m      5\u001b[0m \u001b[1;31m# print('ROC: ',roc_value)\u001b[0m\u001b[1;33m\u001b[0m\u001b[1;33m\u001b[0m\u001b[1;33m\u001b[0m\u001b[0m\n",
      "\u001b[1;32m~\\.conda\\envs\\tf2_gpu\\lib\\site-packages\\sklearn\\utils\\validation.py\u001b[0m in \u001b[0;36minner_f\u001b[1;34m(*args, **kwargs)\u001b[0m\n\u001b[0;32m     71\u001b[0m                           FutureWarning)\n\u001b[0;32m     72\u001b[0m         \u001b[0mkwargs\u001b[0m\u001b[1;33m.\u001b[0m\u001b[0mupdate\u001b[0m\u001b[1;33m(\u001b[0m\u001b[1;33m{\u001b[0m\u001b[0mk\u001b[0m\u001b[1;33m:\u001b[0m \u001b[0marg\u001b[0m \u001b[1;32mfor\u001b[0m \u001b[0mk\u001b[0m\u001b[1;33m,\u001b[0m \u001b[0marg\u001b[0m \u001b[1;32min\u001b[0m \u001b[0mzip\u001b[0m\u001b[1;33m(\u001b[0m\u001b[0msig\u001b[0m\u001b[1;33m.\u001b[0m\u001b[0mparameters\u001b[0m\u001b[1;33m,\u001b[0m \u001b[0margs\u001b[0m\u001b[1;33m)\u001b[0m\u001b[1;33m}\u001b[0m\u001b[1;33m)\u001b[0m\u001b[1;33m\u001b[0m\u001b[1;33m\u001b[0m\u001b[0m\n\u001b[1;32m---> 73\u001b[1;33m         \u001b[1;32mreturn\u001b[0m \u001b[0mf\u001b[0m\u001b[1;33m(\u001b[0m\u001b[1;33m**\u001b[0m\u001b[0mkwargs\u001b[0m\u001b[1;33m)\u001b[0m\u001b[1;33m\u001b[0m\u001b[1;33m\u001b[0m\u001b[0m\n\u001b[0m\u001b[0;32m     74\u001b[0m     \u001b[1;32mreturn\u001b[0m \u001b[0minner_f\u001b[0m\u001b[1;33m\u001b[0m\u001b[1;33m\u001b[0m\u001b[0m\n\u001b[0;32m     75\u001b[0m \u001b[1;33m\u001b[0m\u001b[0m\n",
      "\u001b[1;32m~\\.conda\\envs\\tf2_gpu\\lib\\site-packages\\sklearn\\metrics\\_classification.py\u001b[0m in \u001b[0;36maccuracy_score\u001b[1;34m(y_true, y_pred, normalize, sample_weight)\u001b[0m\n\u001b[0;32m    185\u001b[0m \u001b[1;33m\u001b[0m\u001b[0m\n\u001b[0;32m    186\u001b[0m     \u001b[1;31m# Compute accuracy for each possible representation\u001b[0m\u001b[1;33m\u001b[0m\u001b[1;33m\u001b[0m\u001b[1;33m\u001b[0m\u001b[0m\n\u001b[1;32m--> 187\u001b[1;33m     \u001b[0my_type\u001b[0m\u001b[1;33m,\u001b[0m \u001b[0my_true\u001b[0m\u001b[1;33m,\u001b[0m \u001b[0my_pred\u001b[0m \u001b[1;33m=\u001b[0m \u001b[0m_check_targets\u001b[0m\u001b[1;33m(\u001b[0m\u001b[0my_true\u001b[0m\u001b[1;33m,\u001b[0m \u001b[0my_pred\u001b[0m\u001b[1;33m)\u001b[0m\u001b[1;33m\u001b[0m\u001b[1;33m\u001b[0m\u001b[0m\n\u001b[0m\u001b[0;32m    188\u001b[0m     \u001b[0mcheck_consistent_length\u001b[0m\u001b[1;33m(\u001b[0m\u001b[0my_true\u001b[0m\u001b[1;33m,\u001b[0m \u001b[0my_pred\u001b[0m\u001b[1;33m,\u001b[0m \u001b[0msample_weight\u001b[0m\u001b[1;33m)\u001b[0m\u001b[1;33m\u001b[0m\u001b[1;33m\u001b[0m\u001b[0m\n\u001b[0;32m    189\u001b[0m     \u001b[1;32mif\u001b[0m \u001b[0my_type\u001b[0m\u001b[1;33m.\u001b[0m\u001b[0mstartswith\u001b[0m\u001b[1;33m(\u001b[0m\u001b[1;34m'multilabel'\u001b[0m\u001b[1;33m)\u001b[0m\u001b[1;33m:\u001b[0m\u001b[1;33m\u001b[0m\u001b[1;33m\u001b[0m\u001b[0m\n",
      "\u001b[1;32m~\\.conda\\envs\\tf2_gpu\\lib\\site-packages\\sklearn\\metrics\\_classification.py\u001b[0m in \u001b[0;36m_check_targets\u001b[1;34m(y_true, y_pred)\u001b[0m\n\u001b[0;32m     89\u001b[0m     \u001b[1;32mif\u001b[0m \u001b[0mlen\u001b[0m\u001b[1;33m(\u001b[0m\u001b[0my_type\u001b[0m\u001b[1;33m)\u001b[0m \u001b[1;33m>\u001b[0m \u001b[1;36m1\u001b[0m\u001b[1;33m:\u001b[0m\u001b[1;33m\u001b[0m\u001b[1;33m\u001b[0m\u001b[0m\n\u001b[0;32m     90\u001b[0m         raise ValueError(\"Classification metrics can't handle a mix of {0} \"\n\u001b[1;32m---> 91\u001b[1;33m                          \"and {1} targets\".format(type_true, type_pred))\n\u001b[0m\u001b[0;32m     92\u001b[0m \u001b[1;33m\u001b[0m\u001b[0m\n\u001b[0;32m     93\u001b[0m     \u001b[1;31m# We can't have more than one value on y_type => The set is no more needed\u001b[0m\u001b[1;33m\u001b[0m\u001b[1;33m\u001b[0m\u001b[1;33m\u001b[0m\u001b[0m\n",
      "\u001b[1;31mValueError\u001b[0m: Classification metrics can't handle a mix of multilabel-indicator and continuous-multioutput targets"
     ]
    }
   ],
   "source": [
    "\n",
    "\n",
    "accuracy=accuracy_score(Y_test, Y_pred)\n",
    "print('Accuracy: ',accuracy)\n",
    "\n",
    "# roc_value = roc_auc_score(Y_test,Y_prob)\n",
    "# print('ROC: ',roc_value)"
   ]
  },
  {
   "cell_type": "code",
   "execution_count": 73,
   "metadata": {},
   "outputs": [],
   "source": [
    "# cm = confusion_matrix(Y_test, Y_pred)\n",
    "# print(cm)\n",
    "\n",
    "from sklearn import metrics\n",
    "\n",
    "print('Mean Absolute Error:', metrics.mean_absolute_error(y_test, y_pred))\n",
    "print('Mean Squared Error:', metrics.mean_squared_error(y_test, y_pred))\n",
    "print('Root Mean Squared Error:', np.sqrt(metrics.mean_squared_error(y_test, y_pred)))"
   ]
  },
  {
   "cell_type": "markdown",
   "metadata": {},
   "source": [
    "### LSTM Model"
   ]
  },
  {
   "cell_type": "code",
   "execution_count": null,
   "metadata": {},
   "outputs": [],
   "source": [
    "feat_dim = X_train.shape[2]"
   ]
  },
  {
   "cell_type": "code",
   "execution_count": null,
   "metadata": {
    "scrolled": true
   },
   "outputs": [],
   "source": [
    "# create and fit the LSTM network\n",
    "batch_size = 64\n",
    "model = Sequential()\n",
    "model.add(LSTM(512, return_sequences=True, input_shape=(1, feat_dim)))\n",
    "#model.add(Dropout(0.25))\n",
    "model.add(LSTM(256, return_sequences=True))\n",
    "#model.add(Dropout(0.25))\n",
    "model.add(LSTM(128, return_sequences=True))\n",
    "#model.add(Dropout(0.25))\n",
    "model.add(LSTM(64, return_sequences=True))\n",
    "#model.add(Dropout(0.25))\n",
    "model.add(LSTM(32))\n",
    "model.add(Dense(OUTPUT_CLASSES, activation='softmax'))\n",
    "early_stopping = keras.callbacks.EarlyStopping(monitor='val_acc', min_delta=0, patience=50, verbose=1, mode='auto')\n",
    "model.compile(loss='categorical_crossentropy', optimizer='adam', metrics=['accuracy'])\n",
    "model.fit(X_train, Y_train, epochs=100, batch_size=batch_size, validation_data=(X_valid, Y_valid), verbose=2, shuffle=False, callbacks=[early_stopping])\n"
   ]
  },
  {
   "cell_type": "code",
   "execution_count": null,
   "metadata": {},
   "outputs": [],
   "source": [
    "model.save('ecg_lstm.h5')"
   ]
  },
  {
   "cell_type": "code",
   "execution_count": null,
   "metadata": {},
   "outputs": [],
   "source": [
    "pred_prob = model.predict(X_test)\n",
    "pred_classes = model.predict_classes(X_test)"
   ]
  },
  {
   "cell_type": "code",
   "execution_count": null,
   "metadata": {},
   "outputs": [],
   "source": [
    "score = accuracy_score(Y_test, lb.transform(pred_classes))\n",
    "print(score)"
   ]
  },
  {
   "cell_type": "markdown",
   "metadata": {},
   "source": [
    "### LSTM Model"
   ]
  },
  {
   "cell_type": "code",
   "execution_count": null,
   "metadata": {},
   "outputs": [],
   "source": [
    "from keras.layers import (Input, Conv1D, MaxPooling1D, Dropout,\n",
    "                          BatchNormalization, Activation, Add,\n",
    "                          Flatten, Dense)\n",
    "from keras.models import Model"
   ]
  },
  {
   "cell_type": "code",
   "execution_count": null,
   "metadata": {},
   "outputs": [],
   "source": [
    "class ResidualUnit(object):\n",
    "    \"\"\"Residual unit block (unidimensional).\n",
    "    Parameters\n",
    "    ----------\n",
    "    n_samples_out: int\n",
    "        Number of output samples.\n",
    "    n_filters_out: int\n",
    "        Number of output filters.\n",
    "    kernel_initializer: str, otional\n",
    "        Initializer for the weights matrices. See Keras initializers. By default it uses\n",
    "        'he_normal'.\n",
    "    dropout_rate: float [0, 1), optional\n",
    "        Dropout rate used in all Dropout layers. Default is 0.8\n",
    "    kernel_size: int, optional\n",
    "        Kernel size for convolutional layers. Default is 17.\n",
    "    preactivation: bool, optional\n",
    "        When preactivation is true use full preactivation architecture proposed\n",
    "        in [1]. Otherwise, use architecture proposed in the original ResNet\n",
    "        paper [2]. By default it is true.\n",
    "    postactivation_bn: bool, optional\n",
    "        Defines if you use batch normalization before or after the activation layer (there\n",
    "        seems to be some advantages in some cases:\n",
    "        https://github.com/ducha-aiki/caffenet-benchmark/blob/master/batchnorm.md).\n",
    "        If true, the batch normalization is used before the activation\n",
    "        function, otherwise the activation comes first, as it is usually done.\n",
    "        By default it is false.\n",
    "    activation_function: string, optional\n",
    "        Keras activation function to be used. By default 'relu'.\n",
    "    References\n",
    "    ----------\n",
    "    .. [1] K. He, X. Zhang, S. Ren, and J. Sun, \"Identity Mappings in Deep Residual Networks,\"\n",
    "           arXiv:1603.05027 [cs], Mar. 2016. https://arxiv.org/pdf/1603.05027.pdf.\n",
    "    .. [2] K. He, X. Zhang, S. Ren, and J. Sun, \"Deep Residual Learning for Image Recognition,\" in 2016 IEEE Conference\n",
    "           on Computer Vision and Pattern Recognition (CVPR), 2016, pp. 770-778. https://arxiv.org/pdf/1512.03385.pdf\n",
    "    \"\"\"\n",
    "\n",
    "    def __init__(self, n_samples_out, n_filters_out, kernel_initializer='he_normal',\n",
    "                 dropout_rate=0.8, kernel_size=17, preactivation=True,\n",
    "                 postactivation_bn=False, activation_function='relu'):\n",
    "        self.n_samples_out = n_samples_out\n",
    "        self.n_filters_out = n_filters_out\n",
    "        self.kernel_initializer = kernel_initializer\n",
    "        self.dropout_rate = dropout_rate\n",
    "        self.kernel_size = kernel_size\n",
    "        self.preactivation = preactivation\n",
    "        self.postactivation_bn = postactivation_bn\n",
    "        self.activation_function = activation_function\n",
    "\n",
    "    def _skip_connection(self, y, downsample, n_filters_in):\n",
    "        \"\"\"Implement skip connection.\"\"\"\n",
    "        # Deal with downsampling\n",
    "        if downsample > 1:\n",
    "            y = MaxPooling1D(downsample, strides=downsample, padding='same')(y)\n",
    "        elif downsample == 1:\n",
    "            y = y\n",
    "        else:\n",
    "            raise ValueError(\"Number of samples should always decrease.\")\n",
    "        # Deal with n_filters dimension increase\n",
    "        if n_filters_in != self.n_filters_out:\n",
    "            # This is one of the two alternatives presented in ResNet paper\n",
    "            # Other option is to just fill the matrix with zeros.\n",
    "            y = Conv1D(self.n_filters_out, 1, padding='same',\n",
    "                       use_bias=False, kernel_initializer=self.kernel_initializer)(y)\n",
    "        return y\n",
    "\n",
    "    def _batch_norm_plus_activation(self, x):\n",
    "        if self.postactivation_bn:\n",
    "            x = Activation(self.activation_function)(x)\n",
    "            x = BatchNormalization(center=False, scale=False)(x)\n",
    "        else:\n",
    "            x = BatchNormalization()(x)\n",
    "            x = Activation(self.activation_function)(x)\n",
    "        return x\n",
    "\n",
    "    def __call__(self, inputs):\n",
    "        \"\"\"Residual unit.\"\"\"\n",
    "        x, y = inputs\n",
    "        n_samples_in = y.shape[1].value\n",
    "        downsample = n_samples_in // self.n_samples_out\n",
    "        n_filters_in = y.shape[2].value\n",
    "        y = self._skip_connection(y, downsample, n_filters_in)\n",
    "        # 1st layer\n",
    "        x = Conv1D(self.n_filters_out, self.kernel_size, padding='same',\n",
    "                   use_bias=False, kernel_initializer=self.kernel_initializer)(x)\n",
    "        x = self._batch_norm_plus_activation(x)\n",
    "        if self.dropout_rate > 0:\n",
    "            x = Dropout(self.dropout_rate)(x)\n",
    "\n",
    "        # 2nd layer\n",
    "        x = Conv1D(self.n_filters_out, self.kernel_size, strides=downsample,\n",
    "                   padding='same', use_bias=False,\n",
    "                   kernel_initializer=self.kernel_initializer)(x)\n",
    "        if self.preactivation:\n",
    "            x = Add()([x, y])  # Sum skip connection and main connection\n",
    "            y = x\n",
    "            x = self._batch_norm_plus_activation(x)\n",
    "            if self.dropout_rate > 0:\n",
    "                x = Dropout(self.dropout_rate)(x)\n",
    "        else:\n",
    "            x = BatchNormalization()(x)\n",
    "            x = Add()([x, y])  # Sum skip connection and main connection\n",
    "            x = Activation(self.activation_function)(x)\n",
    "            if self.dropout_rate > 0:\n",
    "                x = Dropout(self.dropout_rate)(x)\n",
    "            y = x\n",
    "        return [x, y]"
   ]
  },
  {
   "cell_type": "code",
   "execution_count": null,
   "metadata": {},
   "outputs": [],
   "source": [
    "# ----- Model ----- #\n",
    "kernel_size = 16\n",
    "kernel_initializer = 'he_normal'\n",
    "signal = Input(shape=(4096, 12), dtype=np.float32, name='signal')\n",
    "age_range = Input(shape=(6,), dtype=np.float32, name='age_range')\n",
    "is_male = Input(shape=(1,), dtype=np.float32, name='is_male')\n",
    "\n",
    "\n",
    "x = signal\n",
    "x = Conv1D(64, kernel_size, padding='same', use_bias=False,\n",
    "           kernel_initializer=kernel_initializer)(x)\n",
    "x = BatchNormalization()(x)\n",
    "x = Activation('relu')(x)\n",
    "x, y = ResidualUnit(1024, 128, kernel_size=kernel_size,\n",
    "                    kernel_initializer=kernel_initializer)([x, x])\n",
    "x, y = ResidualUnit(256, 196, kernel_size=kernel_size,\n",
    "                    kernel_initializer=kernel_initializer)([x, y])\n",
    "x, y = ResidualUnit(64, 256, kernel_size=kernel_size,\n",
    "                    kernel_initializer=kernel_initializer)([x, y])\n",
    "x, _ = ResidualUnit(16, 320, kernel_size=kernel_size,\n",
    "                    kernel_initializer=kernel_initializer)([x, y])\n",
    "x = Flatten()(x)\n",
    "diagn = Dense(6, activation='sigmoid', kernel_initializer=kernel_initializer)(x)\n",
    "model = Model(signal, diagn)"
   ]
  },
  {
   "cell_type": "code",
   "execution_count": null,
   "metadata": {},
   "outputs": [],
   "source": [
    "history = model.fit(x, y,\n",
    "            batch_size=batch_size,\n",
    "            epochs=70,\n",
    "            initial_epoch=0,  # If you are continuing a interrupted section change here\n",
    "            validation_split=args.val_split,\n",
    "            shuffle='batch',  # Because our dataset is an HDF5 file\n",
    "            callbacks=callbacks,\n",
    "            verbose=1)"
   ]
  },
  {
   "cell_type": "markdown",
   "metadata": {},
   "source": [
    "### MISC"
   ]
  },
  {
   "cell_type": "markdown",
   "metadata": {},
   "source": [
    "# JUNK"
   ]
  },
  {
   "cell_type": "code",
   "execution_count": null,
   "metadata": {},
   "outputs": [],
   "source": []
  }
 ],
 "metadata": {
  "kernelspec": {
   "display_name": "Python 3",
   "language": "python",
   "name": "python3"
  },
  "language_info": {
   "codemirror_mode": {
    "name": "ipython",
    "version": 3
   },
   "file_extension": ".py",
   "mimetype": "text/x-python",
   "name": "python",
   "nbconvert_exporter": "python",
   "pygments_lexer": "ipython3",
   "version": "3.7.6"
  }
 },
 "nbformat": 4,
 "nbformat_minor": 4
}
