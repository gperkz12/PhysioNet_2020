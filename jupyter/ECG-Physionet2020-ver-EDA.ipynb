{
 "cells": [
  {
   "cell_type": "markdown",
   "metadata": {},
   "source": [
    "# LIBRARIES"
   ]
  },
  {
   "cell_type": "code",
   "execution_count": 1,
   "metadata": {},
   "outputs": [
    {
     "name": "stderr",
     "output_type": "stream",
     "text": [
      "Using TensorFlow backend.\n"
     ]
    }
   ],
   "source": [
    "import os\n",
    "from scipy.io import loadmat\n",
    "import numpy as np\n",
    "import pandas as pd\n",
    "import matplotlib.pyplot as plt\n",
    "import scipy as sp\n",
    "\n",
    "from sklearn.model_selection import train_test_split\n",
    "from sklearn import preprocessing # classification\n",
    "from itertools import chain \n",
    "\n",
    "# FEATURE ENGINEERING\n",
    "from ecgdetectors import Detectors\n",
    "\n",
    "# CLASSIFICATION\n",
    "from sklearn.preprocessing import MinMaxScaler\n",
    "from sklearn.metrics import mean_squared_error\n",
    "from sklearn.metrics import accuracy_score\n",
    "\n",
    "from keras.models import Sequential\n",
    "from keras.layers import Dense, LSTM, Dropout\n",
    "import keras"
   ]
  },
  {
   "cell_type": "markdown",
   "metadata": {},
   "source": [
    "# CONFIGURATION"
   ]
  },
  {
   "cell_type": "code",
   "execution_count": 2,
   "metadata": {},
   "outputs": [],
   "source": [
    "# ENVIRONMENT\n",
    "# tf2_gpu\n",
    "\n",
    "\n",
    "# physionet data\n",
    "pth_data = r'C:\\Users\\muham\\Documents\\rizwan-asus\\DATA\\PHYSIONET-2020\\data1\\Training_WFDB'\n",
    "\n",
    "# pth_code = r'C:\\Users\\muham\\Documents\\rizwan-asus\\PHYSIONET2020\\code\\physionet-python-2020-master'\n",
    "\n",
    "pth_functions = r'C:\\Users\\muham\\Documents\\rizwan-asus\\PHYSIONET2020\\code\\PhysioNet_2020'\n",
    "\n",
    "pth_eval = r'C:\\Users\\muham\\Documents\\rizwan-asus\\PHYSIONET2020\\results'\n",
    "\n",
    "pth_res = r'C:\\Users\\muham\\Documents\\rizwan-asus\\PHYSIONET2020\\results\\res1'\n",
    "\n",
    "pth_fig = r'C:\\Users\\muham\\Documents\\rizwan-asus\\PHYSIONET2020\\figures'\n",
    "\n",
    "pth_pwd = os.getcwd()"
   ]
  },
  {
   "cell_type": "markdown",
   "metadata": {},
   "source": [
    "# FUNCTION"
   ]
  },
  {
   "cell_type": "code",
   "execution_count": 7,
   "metadata": {},
   "outputs": [],
   "source": [
    "# # GITHUB CODE\n",
    "# os.chdir(pth_code)\n",
    "\n",
    "# from driver import *\n",
    "# from get_12ECG_features import *\n",
    "# from run_12ECG_classifier import *\n",
    "\n",
    "# LOCAL FUNCTIONS\n",
    "os.chdir(pth_functions)\n",
    "\n",
    "# PHYSIONET FUNCTIONS\n",
    "from driver import *\n",
    "from get_12ECG_features import *\n",
    "from run_12ECG_classifier import *\n",
    "\n",
    "# RIZ FUNCTIONS\n",
    "from data_read import data_files_list\n",
    "from data_read import data_files_load\n",
    "\n",
    "from data_eda import *\n",
    "from data_preprocess import *\n",
    "from data_prepare import *\n",
    "from plt_ecg import *\n",
    "\n",
    "os.chdir(pth_pwd)"
   ]
  },
  {
   "cell_type": "markdown",
   "metadata": {},
   "source": [
    "# PARAMETERS"
   ]
  },
  {
   "cell_type": "code",
   "execution_count": 8,
   "metadata": {},
   "outputs": [],
   "source": [
    "sample_no = 1 # index of the data sample\n",
    "lead_no = 1 # 12-lead ECG waveform (1,2,3,... 12)\n",
    "\n",
    "TOT_LEADS = 12\n",
    "OUTPUT_CLASSES = 9\n",
    "\n",
    "ANOMALIES_REMOVAL = False\n",
    "NOISE_REMOVAL = False"
   ]
  },
  {
   "cell_type": "markdown",
   "metadata": {},
   "source": [
    "# LOAD DATA "
   ]
  },
  {
   "cell_type": "code",
   "execution_count": 9,
   "metadata": {},
   "outputs": [],
   "source": [
    "# [list_data_all,list_label_all,list_fname_all,list_meta_all] = data_files_load(pth_data)"
   ]
  },
  {
   "cell_type": "markdown",
   "metadata": {},
   "source": [
    "# STATISTICAL ANALYSIS"
   ]
  },
  {
   "cell_type": "markdown",
   "metadata": {},
   "source": [
    "#### Basic Statistical Analysis "
   ]
  },
  {
   "cell_type": "raw",
   "metadata": {},
   "source": [
    "df_stats = stats_basic(pth_data)\n",
    "df_stats.to_csv('STATS_basic_PNET.csv') "
   ]
  },
  {
   "cell_type": "markdown",
   "metadata": {},
   "source": [
    "# JUNK"
   ]
  },
  {
   "cell_type": "code",
   "execution_count": null,
   "metadata": {},
   "outputs": [],
   "source": []
  }
 ],
 "metadata": {
  "kernelspec": {
   "display_name": "Python 3",
   "language": "python",
   "name": "python3"
  },
  "language_info": {
   "codemirror_mode": {
    "name": "ipython",
    "version": 3
   },
   "file_extension": ".py",
   "mimetype": "text/x-python",
   "name": "python",
   "nbconvert_exporter": "python",
   "pygments_lexer": "ipython3",
   "version": "3.7.6"
  }
 },
 "nbformat": 4,
 "nbformat_minor": 4
}
